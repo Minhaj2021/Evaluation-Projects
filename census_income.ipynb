{
 "cells": [
  {
   "cell_type": "markdown",
   "id": "55439ce8",
   "metadata": {},
   "source": [
    "# Census Income Project"
   ]
  },
  {
   "cell_type": "code",
   "execution_count": 1,
   "id": "47ac40ef",
   "metadata": {},
   "outputs": [],
   "source": [
    "import pandas as pd\n",
    "import numpy as np\n",
    "import seaborn as sns\n",
    "import matplotlib.pyplot as plt\n",
    "import warnings\n",
    "warnings.filterwarnings('ignore')\n",
    "from sklearn.tree import DecisionTreeClassifier\n",
    "from sklearn.linear_model import LogisticRegression\n",
    "from sklearn.ensemble import RandomForestClassifier\n",
    "from sklearn.ensemble import AdaBoostClassifier\n",
    "from sklearn.model_selection import train_test_split,cross_val_score,GridSearchCV\n",
    "from sklearn.metrics import accuracy_score,classification_report,confusion_matrix,roc_curve,roc_auc_score\n",
    "from sklearn.preprocessing import StandardScaler,LabelEncoder"
   ]
  },
  {
   "cell_type": "markdown",
   "id": "b8415b3b",
   "metadata": {},
   "source": [
    "Importing required modules"
   ]
  },
  {
   "cell_type": "code",
   "execution_count": 2,
   "id": "905800a4",
   "metadata": {},
   "outputs": [],
   "source": [
    "cs=pd.read_csv('census.csv')"
   ]
  },
  {
   "cell_type": "markdown",
   "id": "f7509293",
   "metadata": {},
   "source": [
    "Importing Dataset"
   ]
  },
  {
   "cell_type": "code",
   "execution_count": 3,
   "id": "808c03a0",
   "metadata": {},
   "outputs": [
    {
     "data": {
      "text/html": [
       "<div>\n",
       "<style scoped>\n",
       "    .dataframe tbody tr th:only-of-type {\n",
       "        vertical-align: middle;\n",
       "    }\n",
       "\n",
       "    .dataframe tbody tr th {\n",
       "        vertical-align: top;\n",
       "    }\n",
       "\n",
       "    .dataframe thead th {\n",
       "        text-align: right;\n",
       "    }\n",
       "</style>\n",
       "<table border=\"1\" class=\"dataframe\">\n",
       "  <thead>\n",
       "    <tr style=\"text-align: right;\">\n",
       "      <th></th>\n",
       "      <th>Age</th>\n",
       "      <th>Workclass</th>\n",
       "      <th>Fnlwgt</th>\n",
       "      <th>Education</th>\n",
       "      <th>Education_num</th>\n",
       "      <th>Marital_status</th>\n",
       "      <th>Occupation</th>\n",
       "      <th>Relationship</th>\n",
       "      <th>Race</th>\n",
       "      <th>Sex</th>\n",
       "      <th>Capital_gain</th>\n",
       "      <th>Capital_loss</th>\n",
       "      <th>Hours_per_week</th>\n",
       "      <th>Native_country</th>\n",
       "      <th>Income</th>\n",
       "    </tr>\n",
       "  </thead>\n",
       "  <tbody>\n",
       "    <tr>\n",
       "      <th>0</th>\n",
       "      <td>50</td>\n",
       "      <td>Self-emp-not-inc</td>\n",
       "      <td>83311</td>\n",
       "      <td>Bachelors</td>\n",
       "      <td>13</td>\n",
       "      <td>Married-civ-spouse</td>\n",
       "      <td>Exec-managerial</td>\n",
       "      <td>Husband</td>\n",
       "      <td>White</td>\n",
       "      <td>Male</td>\n",
       "      <td>0</td>\n",
       "      <td>0</td>\n",
       "      <td>13</td>\n",
       "      <td>United-States</td>\n",
       "      <td>&lt;=50K</td>\n",
       "    </tr>\n",
       "    <tr>\n",
       "      <th>1</th>\n",
       "      <td>38</td>\n",
       "      <td>Private</td>\n",
       "      <td>215646</td>\n",
       "      <td>HS-grad</td>\n",
       "      <td>9</td>\n",
       "      <td>Divorced</td>\n",
       "      <td>Handlers-cleaners</td>\n",
       "      <td>Not-in-family</td>\n",
       "      <td>White</td>\n",
       "      <td>Male</td>\n",
       "      <td>0</td>\n",
       "      <td>0</td>\n",
       "      <td>40</td>\n",
       "      <td>United-States</td>\n",
       "      <td>&lt;=50K</td>\n",
       "    </tr>\n",
       "    <tr>\n",
       "      <th>2</th>\n",
       "      <td>53</td>\n",
       "      <td>Private</td>\n",
       "      <td>234721</td>\n",
       "      <td>11th</td>\n",
       "      <td>7</td>\n",
       "      <td>Married-civ-spouse</td>\n",
       "      <td>Handlers-cleaners</td>\n",
       "      <td>Husband</td>\n",
       "      <td>Black</td>\n",
       "      <td>Male</td>\n",
       "      <td>0</td>\n",
       "      <td>0</td>\n",
       "      <td>40</td>\n",
       "      <td>United-States</td>\n",
       "      <td>&lt;=50K</td>\n",
       "    </tr>\n",
       "    <tr>\n",
       "      <th>3</th>\n",
       "      <td>28</td>\n",
       "      <td>Private</td>\n",
       "      <td>338409</td>\n",
       "      <td>Bachelors</td>\n",
       "      <td>13</td>\n",
       "      <td>Married-civ-spouse</td>\n",
       "      <td>Prof-specialty</td>\n",
       "      <td>Wife</td>\n",
       "      <td>Black</td>\n",
       "      <td>Female</td>\n",
       "      <td>0</td>\n",
       "      <td>0</td>\n",
       "      <td>40</td>\n",
       "      <td>Cuba</td>\n",
       "      <td>&lt;=50K</td>\n",
       "    </tr>\n",
       "    <tr>\n",
       "      <th>4</th>\n",
       "      <td>37</td>\n",
       "      <td>Private</td>\n",
       "      <td>284582</td>\n",
       "      <td>Masters</td>\n",
       "      <td>14</td>\n",
       "      <td>Married-civ-spouse</td>\n",
       "      <td>Exec-managerial</td>\n",
       "      <td>Wife</td>\n",
       "      <td>White</td>\n",
       "      <td>Female</td>\n",
       "      <td>0</td>\n",
       "      <td>0</td>\n",
       "      <td>40</td>\n",
       "      <td>United-States</td>\n",
       "      <td>&lt;=50K</td>\n",
       "    </tr>\n",
       "    <tr>\n",
       "      <th>5</th>\n",
       "      <td>49</td>\n",
       "      <td>Private</td>\n",
       "      <td>160187</td>\n",
       "      <td>9th</td>\n",
       "      <td>5</td>\n",
       "      <td>Married-spouse-absent</td>\n",
       "      <td>Other-service</td>\n",
       "      <td>Not-in-family</td>\n",
       "      <td>Black</td>\n",
       "      <td>Female</td>\n",
       "      <td>0</td>\n",
       "      <td>0</td>\n",
       "      <td>16</td>\n",
       "      <td>Jamaica</td>\n",
       "      <td>&lt;=50K</td>\n",
       "    </tr>\n",
       "    <tr>\n",
       "      <th>6</th>\n",
       "      <td>52</td>\n",
       "      <td>Self-emp-not-inc</td>\n",
       "      <td>209642</td>\n",
       "      <td>HS-grad</td>\n",
       "      <td>9</td>\n",
       "      <td>Married-civ-spouse</td>\n",
       "      <td>Exec-managerial</td>\n",
       "      <td>Husband</td>\n",
       "      <td>White</td>\n",
       "      <td>Male</td>\n",
       "      <td>0</td>\n",
       "      <td>0</td>\n",
       "      <td>45</td>\n",
       "      <td>United-States</td>\n",
       "      <td>&gt;50K</td>\n",
       "    </tr>\n",
       "    <tr>\n",
       "      <th>7</th>\n",
       "      <td>31</td>\n",
       "      <td>Private</td>\n",
       "      <td>45781</td>\n",
       "      <td>Masters</td>\n",
       "      <td>14</td>\n",
       "      <td>Never-married</td>\n",
       "      <td>Prof-specialty</td>\n",
       "      <td>Not-in-family</td>\n",
       "      <td>White</td>\n",
       "      <td>Female</td>\n",
       "      <td>14084</td>\n",
       "      <td>0</td>\n",
       "      <td>50</td>\n",
       "      <td>United-States</td>\n",
       "      <td>&gt;50K</td>\n",
       "    </tr>\n",
       "    <tr>\n",
       "      <th>8</th>\n",
       "      <td>42</td>\n",
       "      <td>Private</td>\n",
       "      <td>159449</td>\n",
       "      <td>Bachelors</td>\n",
       "      <td>13</td>\n",
       "      <td>Married-civ-spouse</td>\n",
       "      <td>Exec-managerial</td>\n",
       "      <td>Husband</td>\n",
       "      <td>White</td>\n",
       "      <td>Male</td>\n",
       "      <td>5178</td>\n",
       "      <td>0</td>\n",
       "      <td>40</td>\n",
       "      <td>United-States</td>\n",
       "      <td>&gt;50K</td>\n",
       "    </tr>\n",
       "    <tr>\n",
       "      <th>9</th>\n",
       "      <td>37</td>\n",
       "      <td>Private</td>\n",
       "      <td>280464</td>\n",
       "      <td>Some-college</td>\n",
       "      <td>10</td>\n",
       "      <td>Married-civ-spouse</td>\n",
       "      <td>Exec-managerial</td>\n",
       "      <td>Husband</td>\n",
       "      <td>Black</td>\n",
       "      <td>Male</td>\n",
       "      <td>0</td>\n",
       "      <td>0</td>\n",
       "      <td>80</td>\n",
       "      <td>United-States</td>\n",
       "      <td>&gt;50K</td>\n",
       "    </tr>\n",
       "  </tbody>\n",
       "</table>\n",
       "</div>"
      ],
      "text/plain": [
       "   Age          Workclass  Fnlwgt      Education  Education_num  \\\n",
       "0   50   Self-emp-not-inc   83311      Bachelors             13   \n",
       "1   38            Private  215646        HS-grad              9   \n",
       "2   53            Private  234721           11th              7   \n",
       "3   28            Private  338409      Bachelors             13   \n",
       "4   37            Private  284582        Masters             14   \n",
       "5   49            Private  160187            9th              5   \n",
       "6   52   Self-emp-not-inc  209642        HS-grad              9   \n",
       "7   31            Private   45781        Masters             14   \n",
       "8   42            Private  159449      Bachelors             13   \n",
       "9   37            Private  280464   Some-college             10   \n",
       "\n",
       "           Marital_status          Occupation    Relationship    Race  \\\n",
       "0      Married-civ-spouse     Exec-managerial         Husband   White   \n",
       "1                Divorced   Handlers-cleaners   Not-in-family   White   \n",
       "2      Married-civ-spouse   Handlers-cleaners         Husband   Black   \n",
       "3      Married-civ-spouse      Prof-specialty            Wife   Black   \n",
       "4      Married-civ-spouse     Exec-managerial            Wife   White   \n",
       "5   Married-spouse-absent       Other-service   Not-in-family   Black   \n",
       "6      Married-civ-spouse     Exec-managerial         Husband   White   \n",
       "7           Never-married      Prof-specialty   Not-in-family   White   \n",
       "8      Married-civ-spouse     Exec-managerial         Husband   White   \n",
       "9      Married-civ-spouse     Exec-managerial         Husband   Black   \n",
       "\n",
       "       Sex  Capital_gain  Capital_loss  Hours_per_week  Native_country  Income  \n",
       "0     Male             0             0              13   United-States   <=50K  \n",
       "1     Male             0             0              40   United-States   <=50K  \n",
       "2     Male             0             0              40   United-States   <=50K  \n",
       "3   Female             0             0              40            Cuba   <=50K  \n",
       "4   Female             0             0              40   United-States   <=50K  \n",
       "5   Female             0             0              16         Jamaica   <=50K  \n",
       "6     Male             0             0              45   United-States    >50K  \n",
       "7   Female         14084             0              50   United-States    >50K  \n",
       "8     Male          5178             0              40   United-States    >50K  \n",
       "9     Male             0             0              80   United-States    >50K  "
      ]
     },
     "execution_count": 3,
     "metadata": {},
     "output_type": "execute_result"
    }
   ],
   "source": [
    "cs.head(10)"
   ]
  },
  {
   "cell_type": "markdown",
   "id": "f82ef259",
   "metadata": {},
   "source": [
    "Sample data of data set"
   ]
  },
  {
   "cell_type": "markdown",
   "id": "a82a30f8",
   "metadata": {},
   "source": [
    "We want to find whether person have income of less than 50k or greater than 50k,so we want to build classification model"
   ]
  },
  {
   "cell_type": "code",
   "execution_count": 4,
   "id": "0bb3268a",
   "metadata": {},
   "outputs": [
    {
     "data": {
      "text/plain": [
       "(32560, 15)"
      ]
     },
     "execution_count": 4,
     "metadata": {},
     "output_type": "execute_result"
    }
   ],
   "source": [
    "cs.shape"
   ]
  },
  {
   "cell_type": "markdown",
   "id": "8162820a",
   "metadata": {},
   "source": [
    "Dataset have 32560 rows and 15 columns"
   ]
  },
  {
   "cell_type": "code",
   "execution_count": 5,
   "id": "4d24283f",
   "metadata": {},
   "outputs": [
    {
     "data": {
      "text/plain": [
       "Age                int64\n",
       "Workclass         object\n",
       "Fnlwgt             int64\n",
       "Education         object\n",
       "Education_num      int64\n",
       "Marital_status    object\n",
       "Occupation        object\n",
       "Relationship      object\n",
       "Race              object\n",
       "Sex               object\n",
       "Capital_gain       int64\n",
       "Capital_loss       int64\n",
       "Hours_per_week     int64\n",
       "Native_country    object\n",
       "Income            object\n",
       "dtype: object"
      ]
     },
     "execution_count": 5,
     "metadata": {},
     "output_type": "execute_result"
    }
   ],
   "source": [
    "cs.dtypes"
   ]
  },
  {
   "cell_type": "markdown",
   "id": "fb0fd475",
   "metadata": {},
   "source": [
    "Datatypes of the columns,data set have integer and categorical data"
   ]
  },
  {
   "cell_type": "code",
   "execution_count": 6,
   "id": "79eb778d",
   "metadata": {},
   "outputs": [
    {
     "data": {
      "text/plain": [
       "Age               0\n",
       "Workclass         0\n",
       "Fnlwgt            0\n",
       "Education         0\n",
       "Education_num     0\n",
       "Marital_status    0\n",
       "Occupation        0\n",
       "Relationship      0\n",
       "Race              0\n",
       "Sex               0\n",
       "Capital_gain      0\n",
       "Capital_loss      0\n",
       "Hours_per_week    0\n",
       "Native_country    0\n",
       "Income            0\n",
       "dtype: int64"
      ]
     },
     "execution_count": 6,
     "metadata": {},
     "output_type": "execute_result"
    }
   ],
   "source": [
    "cs.isnull().sum()"
   ]
  },
  {
   "cell_type": "markdown",
   "id": "e4e84867",
   "metadata": {},
   "source": [
    "Dataset have no missing values "
   ]
  },
  {
   "cell_type": "code",
   "execution_count": 7,
   "id": "4628b246",
   "metadata": {},
   "outputs": [
    {
     "data": {
      "text/html": [
       "<div>\n",
       "<style scoped>\n",
       "    .dataframe tbody tr th:only-of-type {\n",
       "        vertical-align: middle;\n",
       "    }\n",
       "\n",
       "    .dataframe tbody tr th {\n",
       "        vertical-align: top;\n",
       "    }\n",
       "\n",
       "    .dataframe thead th {\n",
       "        text-align: right;\n",
       "    }\n",
       "</style>\n",
       "<table border=\"1\" class=\"dataframe\">\n",
       "  <thead>\n",
       "    <tr style=\"text-align: right;\">\n",
       "      <th></th>\n",
       "      <th>Age</th>\n",
       "      <th>Fnlwgt</th>\n",
       "      <th>Education_num</th>\n",
       "      <th>Capital_gain</th>\n",
       "      <th>Capital_loss</th>\n",
       "      <th>Hours_per_week</th>\n",
       "    </tr>\n",
       "  </thead>\n",
       "  <tbody>\n",
       "    <tr>\n",
       "      <th>count</th>\n",
       "      <td>32560.000000</td>\n",
       "      <td>3.256000e+04</td>\n",
       "      <td>32560.000000</td>\n",
       "      <td>32560.000000</td>\n",
       "      <td>32560.000000</td>\n",
       "      <td>32560.000000</td>\n",
       "    </tr>\n",
       "    <tr>\n",
       "      <th>mean</th>\n",
       "      <td>38.581634</td>\n",
       "      <td>1.897818e+05</td>\n",
       "      <td>10.080590</td>\n",
       "      <td>1077.615172</td>\n",
       "      <td>87.306511</td>\n",
       "      <td>40.437469</td>\n",
       "    </tr>\n",
       "    <tr>\n",
       "      <th>std</th>\n",
       "      <td>13.640642</td>\n",
       "      <td>1.055498e+05</td>\n",
       "      <td>2.572709</td>\n",
       "      <td>7385.402999</td>\n",
       "      <td>402.966116</td>\n",
       "      <td>12.347618</td>\n",
       "    </tr>\n",
       "    <tr>\n",
       "      <th>min</th>\n",
       "      <td>17.000000</td>\n",
       "      <td>1.228500e+04</td>\n",
       "      <td>1.000000</td>\n",
       "      <td>0.000000</td>\n",
       "      <td>0.000000</td>\n",
       "      <td>1.000000</td>\n",
       "    </tr>\n",
       "    <tr>\n",
       "      <th>25%</th>\n",
       "      <td>28.000000</td>\n",
       "      <td>1.178315e+05</td>\n",
       "      <td>9.000000</td>\n",
       "      <td>0.000000</td>\n",
       "      <td>0.000000</td>\n",
       "      <td>40.000000</td>\n",
       "    </tr>\n",
       "    <tr>\n",
       "      <th>50%</th>\n",
       "      <td>37.000000</td>\n",
       "      <td>1.783630e+05</td>\n",
       "      <td>10.000000</td>\n",
       "      <td>0.000000</td>\n",
       "      <td>0.000000</td>\n",
       "      <td>40.000000</td>\n",
       "    </tr>\n",
       "    <tr>\n",
       "      <th>75%</th>\n",
       "      <td>48.000000</td>\n",
       "      <td>2.370545e+05</td>\n",
       "      <td>12.000000</td>\n",
       "      <td>0.000000</td>\n",
       "      <td>0.000000</td>\n",
       "      <td>45.000000</td>\n",
       "    </tr>\n",
       "    <tr>\n",
       "      <th>max</th>\n",
       "      <td>90.000000</td>\n",
       "      <td>1.484705e+06</td>\n",
       "      <td>16.000000</td>\n",
       "      <td>99999.000000</td>\n",
       "      <td>4356.000000</td>\n",
       "      <td>99.000000</td>\n",
       "    </tr>\n",
       "  </tbody>\n",
       "</table>\n",
       "</div>"
      ],
      "text/plain": [
       "                Age        Fnlwgt  Education_num  Capital_gain  Capital_loss  \\\n",
       "count  32560.000000  3.256000e+04   32560.000000  32560.000000  32560.000000   \n",
       "mean      38.581634  1.897818e+05      10.080590   1077.615172     87.306511   \n",
       "std       13.640642  1.055498e+05       2.572709   7385.402999    402.966116   \n",
       "min       17.000000  1.228500e+04       1.000000      0.000000      0.000000   \n",
       "25%       28.000000  1.178315e+05       9.000000      0.000000      0.000000   \n",
       "50%       37.000000  1.783630e+05      10.000000      0.000000      0.000000   \n",
       "75%       48.000000  2.370545e+05      12.000000      0.000000      0.000000   \n",
       "max       90.000000  1.484705e+06      16.000000  99999.000000   4356.000000   \n",
       "\n",
       "       Hours_per_week  \n",
       "count    32560.000000  \n",
       "mean        40.437469  \n",
       "std         12.347618  \n",
       "min          1.000000  \n",
       "25%         40.000000  \n",
       "50%         40.000000  \n",
       "75%         45.000000  \n",
       "max         99.000000  "
      ]
     },
     "execution_count": 7,
     "metadata": {},
     "output_type": "execute_result"
    }
   ],
   "source": [
    "cs.describe()"
   ]
  },
  {
   "cell_type": "markdown",
   "id": "65189273",
   "metadata": {},
   "source": [
    "Statistical measures,minimum age is 17  and maximum age is 90,capital gain maximum is upto 99999 ,capital loss maximum is 4356"
   ]
  },
  {
   "cell_type": "code",
   "execution_count": 8,
   "id": "15f0b713",
   "metadata": {},
   "outputs": [
    {
     "name": "stdout",
     "output_type": "stream",
     "text": [
      "<class 'pandas.core.frame.DataFrame'>\n",
      "RangeIndex: 32560 entries, 0 to 32559\n",
      "Data columns (total 15 columns):\n",
      " #   Column          Non-Null Count  Dtype \n",
      "---  ------          --------------  ----- \n",
      " 0   Age             32560 non-null  int64 \n",
      " 1   Workclass       32560 non-null  object\n",
      " 2   Fnlwgt          32560 non-null  int64 \n",
      " 3   Education       32560 non-null  object\n",
      " 4   Education_num   32560 non-null  int64 \n",
      " 5   Marital_status  32560 non-null  object\n",
      " 6   Occupation      32560 non-null  object\n",
      " 7   Relationship    32560 non-null  object\n",
      " 8   Race            32560 non-null  object\n",
      " 9   Sex             32560 non-null  object\n",
      " 10  Capital_gain    32560 non-null  int64 \n",
      " 11  Capital_loss    32560 non-null  int64 \n",
      " 12  Hours_per_week  32560 non-null  int64 \n",
      " 13  Native_country  32560 non-null  object\n",
      " 14  Income          32560 non-null  object\n",
      "dtypes: int64(6), object(9)\n",
      "memory usage: 3.7+ MB\n"
     ]
    }
   ],
   "source": [
    "cs.info()"
   ]
  },
  {
   "cell_type": "markdown",
   "id": "a30e0532",
   "metadata": {},
   "source": [
    "We can observe the memory usage of dataset"
   ]
  },
  {
   "cell_type": "code",
   "execution_count": 9,
   "id": "fdac5c7c",
   "metadata": {},
   "outputs": [
    {
     "data": {
      "text/plain": [
       "Age                  73\n",
       "Workclass             9\n",
       "Fnlwgt            21647\n",
       "Education            16\n",
       "Education_num        16\n",
       "Marital_status        7\n",
       "Occupation           15\n",
       "Relationship          6\n",
       "Race                  5\n",
       "Sex                   2\n",
       "Capital_gain        119\n",
       "Capital_loss         92\n",
       "Hours_per_week       94\n",
       "Native_country       42\n",
       "Income                2\n",
       "dtype: int64"
      ]
     },
     "execution_count": 9,
     "metadata": {},
     "output_type": "execute_result"
    }
   ],
   "source": [
    "cs.nunique()"
   ]
  },
  {
   "cell_type": "markdown",
   "id": "3ac80229",
   "metadata": {},
   "source": [
    "unique values for each column"
   ]
  },
  {
   "cell_type": "markdown",
   "id": "297e2efe",
   "metadata": {},
   "source": [
    "# Visualizations"
   ]
  },
  {
   "cell_type": "code",
   "execution_count": 10,
   "id": "0b51afef",
   "metadata": {},
   "outputs": [
    {
     "data": {
      "image/png": "[encoded data removed]",
      "text/plain": [
       "<Figure size 432x288 with 1 Axes>"
      ]
     },
     "metadata": {
      "needs_background": "light"
     },
     "output_type": "display_data"
    }
   ],
   "source": [
    "sns.countplot('Income',data=cs)\n",
    "plt.show()"
   ]
  },
  {
   "cell_type": "markdown",
   "id": "8568ae53",
   "metadata": {},
   "source": [
    "Dataset have more persons which have income of <50k"
   ]
  },
  {
   "cell_type": "code",
   "execution_count": 11,
   "id": "d88e312b",
   "metadata": {},
   "outputs": [
    {
     "data": {
      "image/png": "[encoded data removed]",
      "text/plain": [
       "<Figure size 576x576 with 1 Axes>"
      ]
     },
     "metadata": {
      "needs_background": "light"
     },
     "output_type": "display_data"
    },
    {
     "name": "stdout",
     "output_type": "stream",
     "text": [
      " Private             22696\n",
      " Self-emp-not-inc     2541\n",
      " Local-gov            2093\n",
      " ?                    1836\n",
      " State-gov            1297\n",
      " Self-emp-inc         1116\n",
      " Federal-gov           960\n",
      " Without-pay            14\n",
      " Never-worked            7\n",
      "Name: Workclass, dtype: int64\n"
     ]
    }
   ],
   "source": [
    "plt.figure(figsize=(8,8))\n",
    "sns.countplot('Workclass',data=cs)\n",
    "plt.show()\n",
    "print(cs['Workclass'].value_counts())"
   ]
  },
  {
   "cell_type": "markdown",
   "id": "b6d9c69c",
   "metadata": {},
   "source": [
    "Here more of the work class have private but also we can observe a question mark '?' present in column we want to treat it like traeting missing values"
   ]
  },
  {
   "cell_type": "code",
   "execution_count": 12,
   "id": "35c68c63",
   "metadata": {},
   "outputs": [
    {
     "data": {
      "image/png": "[encoded data removed]",
      "text/plain": [
       "<Figure size 864x936 with 1 Axes>"
      ]
     },
     "metadata": {
      "needs_background": "light"
     },
     "output_type": "display_data"
    },
    {
     "name": "stdout",
     "output_type": "stream",
     "text": [
      " HS-grad         10501\n",
      " Some-college     7291\n",
      " Bachelors        5354\n",
      " Masters          1723\n",
      " Assoc-voc        1382\n",
      " 11th             1175\n",
      " Assoc-acdm       1067\n",
      " 10th              933\n",
      " 7th-8th           646\n",
      " Prof-school       576\n",
      " 9th               514\n",
      " 12th              433\n",
      " Doctorate         413\n",
      " 5th-6th           333\n",
      " 1st-4th           168\n",
      " Preschool          51\n",
      "Name: Education, dtype: int64\n"
     ]
    }
   ],
   "source": [
    "plt.figure(figsize=(12,13))\n",
    "sns.countplot('Education',data=cs)\n",
    "plt.show()\n",
    "print(cs['Education'].value_counts())"
   ]
  },
  {
   "cell_type": "markdown",
   "id": "2cac89b9",
   "metadata": {},
   "source": [
    "High school grade education are present more"
   ]
  },
  {
   "cell_type": "code",
   "execution_count": 13,
   "id": "6656dd68",
   "metadata": {},
   "outputs": [
    {
     "data": {
      "image/png": "[encoded data removed]",
      "text/plain": [
       "<Figure size 576x576 with 1 Axes>"
      ]
     },
     "metadata": {
      "needs_background": "light"
     },
     "output_type": "display_data"
    },
    {
     "name": "stdout",
     "output_type": "stream",
     "text": [
      " Married-civ-spouse       14976\n",
      " Never-married            10682\n",
      " Divorced                  4443\n",
      " Separated                 1025\n",
      " Widowed                    993\n",
      " Married-spouse-absent      418\n",
      " Married-AF-spouse           23\n",
      "Name: Marital_status, dtype: int64\n"
     ]
    }
   ],
   "source": [
    "plt.figure(figsize=(8,8))\n",
    "sns.countplot('Marital_status',data=cs)\n",
    "plt.show()\n",
    "print(cs['Marital_status'].value_counts())"
   ]
  },
  {
   "cell_type": "markdown",
   "id": "b4ba8f49",
   "metadata": {},
   "source": [
    "Counts of marital status,most of the spouse civilians and armed forces spouses were less"
   ]
  },
  {
   "cell_type": "code",
   "execution_count": 14,
   "id": "7dcbb8ad",
   "metadata": {},
   "outputs": [
    {
     "data": {
      "image/png": "[encoded data removed]",
      "text/plain": [
       "<Figure size 1080x1080 with 1 Axes>"
      ]
     },
     "metadata": {
      "needs_background": "light"
     },
     "output_type": "display_data"
    },
    {
     "name": "stdout",
     "output_type": "stream",
     "text": [
      " Prof-specialty       4140\n",
      " Craft-repair         4099\n",
      " Exec-managerial      4066\n",
      " Adm-clerical         3769\n",
      " Sales                3650\n",
      " Other-service        3295\n",
      " Machine-op-inspct    2002\n",
      " ?                    1843\n",
      " Transport-moving     1597\n",
      " Handlers-cleaners    1370\n",
      " Farming-fishing       994\n",
      " Tech-support          928\n",
      " Protective-serv       649\n",
      " Priv-house-serv       149\n",
      " Armed-Forces            9\n",
      "Name: Occupation, dtype: int64\n"
     ]
    }
   ],
   "source": [
    "plt.figure(figsize=(15,15))\n",
    "sns.countplot('Occupation',data=cs)\n",
    "plt.show()\n",
    "print(cs['Occupation'].value_counts())"
   ]
  },
  {
   "cell_type": "markdown",
   "id": "7aebe994",
   "metadata": {},
   "source": [
    "Here also the question mark (?) present we want to treat it"
   ]
  },
  {
   "cell_type": "code",
   "execution_count": 15,
   "id": "dd8fbcb3",
   "metadata": {},
   "outputs": [
    {
     "data": {
      "image/png": "[encoded data removed]",
      "text/plain": [
       "<Figure size 576x576 with 1 Axes>"
      ]
     },
     "metadata": {
      "needs_background": "light"
     },
     "output_type": "display_data"
    },
    {
     "name": "stdout",
     "output_type": "stream",
     "text": [
      " Husband           13193\n",
      " Not-in-family      8304\n",
      " Own-child          5068\n",
      " Unmarried          3446\n",
      " Wife               1568\n",
      " Other-relative      981\n",
      "Name: Relationship, dtype: int64\n"
     ]
    }
   ],
   "source": [
    "plt.figure(figsize=(8,8))\n",
    "sns.countplot('Relationship',data=cs)\n",
    "plt.show()\n",
    "print(cs['Relationship'].value_counts())"
   ]
  },
  {
   "cell_type": "markdown",
   "id": "58570e24",
   "metadata": {},
   "source": [
    "Counts of ralationship"
   ]
  },
  {
   "cell_type": "code",
   "execution_count": 16,
   "id": "c988c3d5",
   "metadata": {},
   "outputs": [
    {
     "data": {
      "image/png": "[encoded data removed]",
      "text/plain": [
       "<Figure size 504x504 with 1 Axes>"
      ]
     },
     "metadata": {
      "needs_background": "light"
     },
     "output_type": "display_data"
    },
    {
     "name": "stdout",
     "output_type": "stream",
     "text": [
      " White                 27815\n",
      " Black                  3124\n",
      " Asian-Pac-Islander     1039\n",
      " Amer-Indian-Eskimo      311\n",
      " Other                   271\n",
      "Name: Race, dtype: int64\n"
     ]
    }
   ],
   "source": [
    "plt.figure(figsize=(7,7))\n",
    "sns.countplot('Race',data=cs)\n",
    "plt.show()\n",
    "print(cs['Race'].value_counts())"
   ]
  },
  {
   "cell_type": "markdown",
   "id": "f1905e70",
   "metadata": {},
   "source": [
    "Most of the persons are white"
   ]
  },
  {
   "cell_type": "code",
   "execution_count": 17,
   "id": "6575bb22",
   "metadata": {},
   "outputs": [
    {
     "data": {
      "image/png": "[encoded data removed]",
      "text/plain": [
       "<Figure size 360x360 with 1 Axes>"
      ]
     },
     "metadata": {
      "needs_background": "light"
     },
     "output_type": "display_data"
    },
    {
     "name": "stdout",
     "output_type": "stream",
     "text": [
      " Male      21789\n",
      " Female    10771\n",
      "Name: Sex, dtype: int64\n"
     ]
    }
   ],
   "source": [
    "plt.figure(figsize=(5,5))\n",
    "sns.countplot('Sex',data=cs)\n",
    "plt.show()\n",
    "print(cs['Sex'].value_counts())"
   ]
  },
  {
   "cell_type": "markdown",
   "id": "03d1293b",
   "metadata": {},
   "source": [
    "Most of persons are male"
   ]
  },
  {
   "cell_type": "code",
   "execution_count": 18,
   "id": "d20a76ed",
   "metadata": {},
   "outputs": [
    {
     "name": "stdout",
     "output_type": "stream",
     "text": [
      " United-States                 29169\n",
      " Mexico                          643\n",
      " ?                               583\n",
      " Philippines                     198\n",
      " Germany                         137\n",
      " Canada                          121\n",
      " Puerto-Rico                     114\n",
      " El-Salvador                     106\n",
      " India                           100\n",
      " Cuba                             95\n",
      " England                          90\n",
      " Jamaica                          81\n",
      " South                            80\n",
      " China                            75\n",
      " Italy                            73\n",
      " Dominican-Republic               70\n",
      " Vietnam                          67\n",
      " Guatemala                        64\n",
      " Japan                            62\n",
      " Poland                           60\n",
      " Columbia                         59\n",
      " Taiwan                           51\n",
      " Haiti                            44\n",
      " Iran                             43\n",
      " Portugal                         37\n",
      " Nicaragua                        34\n",
      " Peru                             31\n",
      " France                           29\n",
      " Greece                           29\n",
      " Ecuador                          28\n",
      " Ireland                          24\n",
      " Hong                             20\n",
      " Trinadad&Tobago                  19\n",
      " Cambodia                         19\n",
      " Laos                             18\n",
      " Thailand                         18\n",
      " Yugoslavia                       16\n",
      " Outlying-US(Guam-USVI-etc)       14\n",
      " Honduras                         13\n",
      " Hungary                          13\n",
      " Scotland                         12\n",
      " Holand-Netherlands                1\n",
      "Name: Native_country, dtype: int64\n"
     ]
    }
   ],
   "source": [
    "print(cs['Native_country'].value_counts())"
   ]
  },
  {
   "cell_type": "markdown",
   "id": "8148506d",
   "metadata": {},
   "source": [
    "Most of persons are americans and also here we can observe the question mark upto 583 datas"
   ]
  },
  {
   "cell_type": "markdown",
   "id": "63d46cc7",
   "metadata": {},
   "source": [
    "Now we observe '?' in columns occupation,workclass and nativecountry."
   ]
  },
  {
   "cell_type": "code",
   "execution_count": 19,
   "id": "6caaafbe",
   "metadata": {},
   "outputs": [
    {
     "data": {
      "image/png": "[encoded data removed]",
      "text/plain": [
       "<Figure size 360x360 with 1 Axes>"
      ]
     },
     "metadata": {
      "needs_background": "light"
     },
     "output_type": "display_data"
    }
   ],
   "source": [
    "plt.figure(figsize=(5,5))\n",
    "sns.countplot('Sex',data=cs,hue='Income')\n",
    "plt.show()"
   ]
  },
  {
   "cell_type": "markdown",
   "id": "921c09e4",
   "metadata": {},
   "source": [
    "In both income males are more"
   ]
  },
  {
   "cell_type": "code",
   "execution_count": 20,
   "id": "0892ace4",
   "metadata": {},
   "outputs": [
    {
     "data": {
      "image/png": "[encoded data removed]",
      "text/plain": [
       "<Figure size 1080x1080 with 1 Axes>"
      ]
     },
     "metadata": {
      "needs_background": "light"
     },
     "output_type": "display_data"
    }
   ],
   "source": [
    "plt.figure(figsize=(15,15))\n",
    "sns.countplot('Workclass',data=cs,hue='Income')\n",
    "plt.show()"
   ]
  },
  {
   "cell_type": "markdown",
   "id": "0c2dfe5b",
   "metadata": {},
   "source": [
    "Most of incomes where from private work class"
   ]
  },
  {
   "cell_type": "code",
   "execution_count": 21,
   "id": "8b4beff4",
   "metadata": {},
   "outputs": [
    {
     "data": {
      "image/png": "[encoded data removed]",
      "text/plain": [
       "<Figure size 1800x1800 with 1 Axes>"
      ]
     },
     "metadata": {
      "needs_background": "light"
     },
     "output_type": "display_data"
    }
   ],
   "source": [
    "plt.figure(figsize=(25,25))\n",
    "sns.countplot('Education',data=cs,hue='Income')\n",
    "plt.show()"
   ]
  },
  {
   "cell_type": "markdown",
   "id": "e3dd5f08",
   "metadata": {},
   "source": [
    "Most of income <50k is from high school graduates and >50k from bachelors"
   ]
  },
  {
   "cell_type": "code",
   "execution_count": 22,
   "id": "469d2566",
   "metadata": {},
   "outputs": [
    {
     "data": {
      "image/png": "[encoded data removed]",
      "text/plain": [
       "<Figure size 1152x1152 with 1 Axes>"
      ]
     },
     "metadata": {
      "needs_background": "light"
     },
     "output_type": "display_data"
    }
   ],
   "source": [
    "plt.figure(figsize=(16,16))\n",
    "sns.countplot('Marital_status',data=cs,hue='Income')\n",
    "plt.show()"
   ]
  },
  {
   "cell_type": "markdown",
   "id": "fdfe7221",
   "metadata": {},
   "source": [
    "Incomes with <50k are not married people and income with >50k are married with civilians"
   ]
  },
  {
   "cell_type": "code",
   "execution_count": 23,
   "id": "c74b3599",
   "metadata": {},
   "outputs": [
    {
     "data": {
      "image/png": "[encoded data removed]",
      "text/plain": [
       "<Figure size 1296x1008 with 1 Axes>"
      ]
     },
     "metadata": {
      "needs_background": "light"
     },
     "output_type": "display_data"
    }
   ],
   "source": [
    "plt.figure(figsize=(18,14))\n",
    "sns.countplot('Occupation',data=cs,hue='Income')\n",
    "plt.show()"
   ]
  },
  {
   "cell_type": "markdown",
   "id": "5e9bfd56",
   "metadata": {},
   "source": [
    "Most of the income <50k where have occupation administrative clerks and >50k are executive managers"
   ]
  },
  {
   "cell_type": "code",
   "execution_count": 24,
   "id": "c1f5a4c9",
   "metadata": {},
   "outputs": [
    {
     "data": {
      "image/png": "[encoded data removed]",
      "text/plain": [
       "<Figure size 504x504 with 1 Axes>"
      ]
     },
     "metadata": {
      "needs_background": "light"
     },
     "output_type": "display_data"
    }
   ],
   "source": [
    "plt.figure(figsize=(7,7))\n",
    "sns.countplot('Relationship',data=cs,hue='Income')\n",
    "plt.show()"
   ]
  },
  {
   "cell_type": "markdown",
   "id": "cfd0a7f0",
   "metadata": {},
   "source": [
    "Not in family have highest <50k income and 'Husband' have more income of >50k"
   ]
  },
  {
   "cell_type": "code",
   "execution_count": 25,
   "id": "3eb91198",
   "metadata": {},
   "outputs": [
    {
     "data": {
      "image/png": "[encoded data removed]",
      "text/plain": [
       "<Figure size 720x720 with 1 Axes>"
      ]
     },
     "metadata": {
      "needs_background": "light"
     },
     "output_type": "display_data"
    }
   ],
   "source": [
    "plt.figure(figsize=(10,10))\n",
    "sns.countplot('Race',data=cs,hue='Income')\n",
    "plt.show()"
   ]
  },
  {
   "cell_type": "markdown",
   "id": "da88348f",
   "metadata": {},
   "source": [
    " White have both incomes more than others"
   ]
  },
  {
   "cell_type": "code",
   "execution_count": 26,
   "id": "0e33e8f7",
   "metadata": {},
   "outputs": [
    {
     "data": {
      "image/png": "[encoded data removed]",
      "text/plain": [
       "<Figure size 1656x1080 with 1 Axes>"
      ]
     },
     "metadata": {
      "needs_background": "light"
     },
     "output_type": "display_data"
    }
   ],
   "source": [
    "plt.figure(figsize=(23,15))\n",
    "sns.countplot('Native_country',data=cs,hue='Income')\n",
    "plt.show()"
   ]
  },
  {
   "cell_type": "markdown",
   "id": "6febe2b8",
   "metadata": {},
   "source": [
    "Both incomes are more in united states"
   ]
  },
  {
   "cell_type": "code",
   "execution_count": 27,
   "id": "7d52158d",
   "metadata": {},
   "outputs": [
    {
     "data": {
      "image/png": "[encoded data removed]",
      "text/plain": [
       "<Figure size 720x720 with 9 Axes>"
      ]
     },
     "metadata": {
      "needs_background": "light"
     },
     "output_type": "display_data"
    }
   ],
   "source": [
    "cs.hist(figsize=(10,10),layout=(3,3))\n",
    "plt.show()"
   ]
  },
  {
   "cell_type": "markdown",
   "id": "cccd44e9",
   "metadata": {},
   "source": [
    "Most of the ages in between 20-50,maximum people working between 30-40 hours"
   ]
  },
  {
   "cell_type": "code",
   "execution_count": 28,
   "id": "73c0f359",
   "metadata": {},
   "outputs": [
    {
     "data": {
      "image/png": "[encoded data removed]",
      "text/plain": [
       "<Figure size 720x720 with 9 Axes>"
      ]
     },
     "metadata": {
      "needs_background": "light"
     },
     "output_type": "display_data"
    }
   ],
   "source": [
    "cs.plot(kind='box',figsize=(10,10),layout=(3,3),sharex=False,subplots=True)\n",
    "plt.show()"
   ]
  },
  {
   "cell_type": "markdown",
   "id": "711a396e",
   "metadata": {},
   "source": [
    "Outliers present in columns"
   ]
  },
  {
   "cell_type": "code",
   "execution_count": 29,
   "id": "1d23ddf3",
   "metadata": {},
   "outputs": [
    {
     "data": {
      "text/plain": [
       "Index(['Age', 'Workclass', 'Fnlwgt', 'Education', 'Education_num',\n",
       "       'Marital_status', 'Occupation', 'Relationship', 'Race', 'Sex',\n",
       "       'Capital_gain', 'Capital_loss', 'Hours_per_week', 'Native_country',\n",
       "       'Income'],\n",
       "      dtype='object')"
      ]
     },
     "execution_count": 29,
     "metadata": {},
     "output_type": "execute_result"
    }
   ],
   "source": [
    "cs.columns"
   ]
  },
  {
   "cell_type": "code",
   "execution_count": 30,
   "id": "f2997be3",
   "metadata": {},
   "outputs": [],
   "source": [
    "education_pivot=cs.pivot_table(index='Education',values='Education_num',aggfunc=np.median)"
   ]
  },
  {
   "cell_type": "markdown",
   "id": "f753f08f",
   "metadata": {},
   "source": [
    "Comparing numeical and categorical table using pivot table"
   ]
  },
  {
   "cell_type": "code",
   "execution_count": 31,
   "id": "daadca8e",
   "metadata": {},
   "outputs": [
    {
     "data": {
      "image/png": "[encoded data removed]",
      "text/plain": [
       "<Figure size 720x648 with 1 Axes>"
      ]
     },
     "metadata": {
      "needs_background": "light"
     },
     "output_type": "display_data"
    }
   ],
   "source": [
    "#plotting \n",
    "education_pivot.plot(kind='bar',figsize=(10,9))\n",
    "plt.xlabel(\"Education\")\n",
    "plt.ylabel(\"Education number\")\n",
    "plt.title(\"Relation\")\n",
    "plt.show()"
   ]
  },
  {
   "cell_type": "markdown",
   "id": "3c229efe",
   "metadata": {},
   "source": [
    "Pre school number is 1 and doctorate number is 16"
   ]
  },
  {
   "cell_type": "markdown",
   "id": "54ae0d4b",
   "metadata": {},
   "source": [
    "# Data Cleaning"
   ]
  },
  {
   "cell_type": "markdown",
   "id": "22264361",
   "metadata": {},
   "source": [
    "The question mark '?' presents in categorical tables so I use mode to replace it"
   ]
  },
  {
   "cell_type": "code",
   "execution_count": 32,
   "id": "82a5c7a7",
   "metadata": {},
   "outputs": [
    {
     "data": {
      "text/plain": [
       "' Private'"
      ]
     },
     "execution_count": 32,
     "metadata": {},
     "output_type": "execute_result"
    }
   ],
   "source": [
    "cs['Workclass'].mode()[0]"
   ]
  },
  {
   "cell_type": "markdown",
   "id": "9a07cc7a",
   "metadata": {},
   "source": [
    "The mode of column 'workclass' is 'Private' so I replace with it"
   ]
  },
  {
   "cell_type": "code",
   "execution_count": 33,
   "id": "cabf7e0c",
   "metadata": {},
   "outputs": [
    {
     "data": {
      "text/plain": [
       "' Prof-specialty'"
      ]
     },
     "execution_count": 33,
     "metadata": {},
     "output_type": "execute_result"
    }
   ],
   "source": [
    "cs['Occupation'].mode()[0]"
   ]
  },
  {
   "cell_type": "markdown",
   "id": "0c72689e",
   "metadata": {},
   "source": [
    "In this column mode is 'Prof-specialty'"
   ]
  },
  {
   "cell_type": "code",
   "execution_count": 34,
   "id": "0c355440",
   "metadata": {},
   "outputs": [
    {
     "data": {
      "text/plain": [
       "' United-States'"
      ]
     },
     "execution_count": 34,
     "metadata": {},
     "output_type": "execute_result"
    }
   ],
   "source": [
    "cs['Native_country'].mode()[0]"
   ]
  },
  {
   "cell_type": "markdown",
   "id": "5ffef4da",
   "metadata": {},
   "source": [
    "In this column mode is United states so i replace with it"
   ]
  },
  {
   "cell_type": "code",
   "execution_count": 35,
   "id": "0066715f",
   "metadata": {},
   "outputs": [],
   "source": [
    "cs['Workclass'] = cs['Workclass'].apply(lambda x: x.replace('?', 'Private'))\n",
    "\n",
    "cs['Occupation']=cs['Occupation'].apply(lambda x: x.replace('?', 'Prof-specialty'))\n",
    "\n",
    "cs['Native_country']=cs['Native_country'].apply(lambda x: x.replace('?', 'United-States'))"
   ]
  },
  {
   "cell_type": "markdown",
   "id": "b3a2f34d",
   "metadata": {},
   "source": [
    "replaced '?' using mode of each column"
   ]
  },
  {
   "cell_type": "code",
   "execution_count": 36,
   "id": "ba880101",
   "metadata": {},
   "outputs": [
    {
     "data": {
      "text/html": [
       "<div>\n",
       "<style scoped>\n",
       "    .dataframe tbody tr th:only-of-type {\n",
       "        vertical-align: middle;\n",
       "    }\n",
       "\n",
       "    .dataframe tbody tr th {\n",
       "        vertical-align: top;\n",
       "    }\n",
       "\n",
       "    .dataframe thead th {\n",
       "        text-align: right;\n",
       "    }\n",
       "</style>\n",
       "<table border=\"1\" class=\"dataframe\">\n",
       "  <thead>\n",
       "    <tr style=\"text-align: right;\">\n",
       "      <th></th>\n",
       "      <th>Age</th>\n",
       "      <th>Workclass</th>\n",
       "      <th>Fnlwgt</th>\n",
       "      <th>Education</th>\n",
       "      <th>Education_num</th>\n",
       "      <th>Marital_status</th>\n",
       "      <th>Occupation</th>\n",
       "      <th>Relationship</th>\n",
       "      <th>Race</th>\n",
       "      <th>Sex</th>\n",
       "      <th>Capital_gain</th>\n",
       "      <th>Capital_loss</th>\n",
       "      <th>Hours_per_week</th>\n",
       "      <th>Native_country</th>\n",
       "      <th>Income</th>\n",
       "    </tr>\n",
       "  </thead>\n",
       "  <tbody>\n",
       "    <tr>\n",
       "      <th>32540</th>\n",
       "      <td>41</td>\n",
       "      <td>Private</td>\n",
       "      <td>202822</td>\n",
       "      <td>HS-grad</td>\n",
       "      <td>9</td>\n",
       "      <td>Separated</td>\n",
       "      <td>Prof-specialty</td>\n",
       "      <td>Not-in-family</td>\n",
       "      <td>Black</td>\n",
       "      <td>Female</td>\n",
       "      <td>0</td>\n",
       "      <td>0</td>\n",
       "      <td>32</td>\n",
       "      <td>United-States</td>\n",
       "      <td>&lt;=50K</td>\n",
       "    </tr>\n",
       "    <tr>\n",
       "      <th>32541</th>\n",
       "      <td>72</td>\n",
       "      <td>Private</td>\n",
       "      <td>129912</td>\n",
       "      <td>HS-grad</td>\n",
       "      <td>9</td>\n",
       "      <td>Married-civ-spouse</td>\n",
       "      <td>Prof-specialty</td>\n",
       "      <td>Husband</td>\n",
       "      <td>White</td>\n",
       "      <td>Male</td>\n",
       "      <td>0</td>\n",
       "      <td>0</td>\n",
       "      <td>25</td>\n",
       "      <td>United-States</td>\n",
       "      <td>&lt;=50K</td>\n",
       "    </tr>\n",
       "    <tr>\n",
       "      <th>32542</th>\n",
       "      <td>45</td>\n",
       "      <td>Local-gov</td>\n",
       "      <td>119199</td>\n",
       "      <td>Assoc-acdm</td>\n",
       "      <td>12</td>\n",
       "      <td>Divorced</td>\n",
       "      <td>Prof-specialty</td>\n",
       "      <td>Unmarried</td>\n",
       "      <td>White</td>\n",
       "      <td>Female</td>\n",
       "      <td>0</td>\n",
       "      <td>0</td>\n",
       "      <td>48</td>\n",
       "      <td>United-States</td>\n",
       "      <td>&lt;=50K</td>\n",
       "    </tr>\n",
       "    <tr>\n",
       "      <th>32543</th>\n",
       "      <td>31</td>\n",
       "      <td>Private</td>\n",
       "      <td>199655</td>\n",
       "      <td>Masters</td>\n",
       "      <td>14</td>\n",
       "      <td>Divorced</td>\n",
       "      <td>Other-service</td>\n",
       "      <td>Not-in-family</td>\n",
       "      <td>Other</td>\n",
       "      <td>Female</td>\n",
       "      <td>0</td>\n",
       "      <td>0</td>\n",
       "      <td>30</td>\n",
       "      <td>United-States</td>\n",
       "      <td>&lt;=50K</td>\n",
       "    </tr>\n",
       "    <tr>\n",
       "      <th>32544</th>\n",
       "      <td>39</td>\n",
       "      <td>Local-gov</td>\n",
       "      <td>111499</td>\n",
       "      <td>Assoc-acdm</td>\n",
       "      <td>12</td>\n",
       "      <td>Married-civ-spouse</td>\n",
       "      <td>Adm-clerical</td>\n",
       "      <td>Wife</td>\n",
       "      <td>White</td>\n",
       "      <td>Female</td>\n",
       "      <td>0</td>\n",
       "      <td>0</td>\n",
       "      <td>20</td>\n",
       "      <td>United-States</td>\n",
       "      <td>&gt;50K</td>\n",
       "    </tr>\n",
       "    <tr>\n",
       "      <th>32545</th>\n",
       "      <td>37</td>\n",
       "      <td>Private</td>\n",
       "      <td>198216</td>\n",
       "      <td>Assoc-acdm</td>\n",
       "      <td>12</td>\n",
       "      <td>Divorced</td>\n",
       "      <td>Tech-support</td>\n",
       "      <td>Not-in-family</td>\n",
       "      <td>White</td>\n",
       "      <td>Female</td>\n",
       "      <td>0</td>\n",
       "      <td>0</td>\n",
       "      <td>40</td>\n",
       "      <td>United-States</td>\n",
       "      <td>&lt;=50K</td>\n",
       "    </tr>\n",
       "    <tr>\n",
       "      <th>32546</th>\n",
       "      <td>43</td>\n",
       "      <td>Private</td>\n",
       "      <td>260761</td>\n",
       "      <td>HS-grad</td>\n",
       "      <td>9</td>\n",
       "      <td>Married-civ-spouse</td>\n",
       "      <td>Machine-op-inspct</td>\n",
       "      <td>Husband</td>\n",
       "      <td>White</td>\n",
       "      <td>Male</td>\n",
       "      <td>0</td>\n",
       "      <td>0</td>\n",
       "      <td>40</td>\n",
       "      <td>Mexico</td>\n",
       "      <td>&lt;=50K</td>\n",
       "    </tr>\n",
       "    <tr>\n",
       "      <th>32547</th>\n",
       "      <td>65</td>\n",
       "      <td>Self-emp-not-inc</td>\n",
       "      <td>99359</td>\n",
       "      <td>Prof-school</td>\n",
       "      <td>15</td>\n",
       "      <td>Never-married</td>\n",
       "      <td>Prof-specialty</td>\n",
       "      <td>Not-in-family</td>\n",
       "      <td>White</td>\n",
       "      <td>Male</td>\n",
       "      <td>1086</td>\n",
       "      <td>0</td>\n",
       "      <td>60</td>\n",
       "      <td>United-States</td>\n",
       "      <td>&lt;=50K</td>\n",
       "    </tr>\n",
       "    <tr>\n",
       "      <th>32548</th>\n",
       "      <td>43</td>\n",
       "      <td>State-gov</td>\n",
       "      <td>255835</td>\n",
       "      <td>Some-college</td>\n",
       "      <td>10</td>\n",
       "      <td>Divorced</td>\n",
       "      <td>Adm-clerical</td>\n",
       "      <td>Other-relative</td>\n",
       "      <td>White</td>\n",
       "      <td>Female</td>\n",
       "      <td>0</td>\n",
       "      <td>0</td>\n",
       "      <td>40</td>\n",
       "      <td>United-States</td>\n",
       "      <td>&lt;=50K</td>\n",
       "    </tr>\n",
       "    <tr>\n",
       "      <th>32549</th>\n",
       "      <td>43</td>\n",
       "      <td>Self-emp-not-inc</td>\n",
       "      <td>27242</td>\n",
       "      <td>Some-college</td>\n",
       "      <td>10</td>\n",
       "      <td>Married-civ-spouse</td>\n",
       "      <td>Craft-repair</td>\n",
       "      <td>Husband</td>\n",
       "      <td>White</td>\n",
       "      <td>Male</td>\n",
       "      <td>0</td>\n",
       "      <td>0</td>\n",
       "      <td>50</td>\n",
       "      <td>United-States</td>\n",
       "      <td>&lt;=50K</td>\n",
       "    </tr>\n",
       "    <tr>\n",
       "      <th>32550</th>\n",
       "      <td>32</td>\n",
       "      <td>Private</td>\n",
       "      <td>34066</td>\n",
       "      <td>10th</td>\n",
       "      <td>6</td>\n",
       "      <td>Married-civ-spouse</td>\n",
       "      <td>Handlers-cleaners</td>\n",
       "      <td>Husband</td>\n",
       "      <td>Amer-Indian-Eskimo</td>\n",
       "      <td>Male</td>\n",
       "      <td>0</td>\n",
       "      <td>0</td>\n",
       "      <td>40</td>\n",
       "      <td>United-States</td>\n",
       "      <td>&lt;=50K</td>\n",
       "    </tr>\n",
       "    <tr>\n",
       "      <th>32551</th>\n",
       "      <td>43</td>\n",
       "      <td>Private</td>\n",
       "      <td>84661</td>\n",
       "      <td>Assoc-voc</td>\n",
       "      <td>11</td>\n",
       "      <td>Married-civ-spouse</td>\n",
       "      <td>Sales</td>\n",
       "      <td>Husband</td>\n",
       "      <td>White</td>\n",
       "      <td>Male</td>\n",
       "      <td>0</td>\n",
       "      <td>0</td>\n",
       "      <td>45</td>\n",
       "      <td>United-States</td>\n",
       "      <td>&lt;=50K</td>\n",
       "    </tr>\n",
       "    <tr>\n",
       "      <th>32552</th>\n",
       "      <td>32</td>\n",
       "      <td>Private</td>\n",
       "      <td>116138</td>\n",
       "      <td>Masters</td>\n",
       "      <td>14</td>\n",
       "      <td>Never-married</td>\n",
       "      <td>Tech-support</td>\n",
       "      <td>Not-in-family</td>\n",
       "      <td>Asian-Pac-Islander</td>\n",
       "      <td>Male</td>\n",
       "      <td>0</td>\n",
       "      <td>0</td>\n",
       "      <td>11</td>\n",
       "      <td>Taiwan</td>\n",
       "      <td>&lt;=50K</td>\n",
       "    </tr>\n",
       "    <tr>\n",
       "      <th>32553</th>\n",
       "      <td>53</td>\n",
       "      <td>Private</td>\n",
       "      <td>321865</td>\n",
       "      <td>Masters</td>\n",
       "      <td>14</td>\n",
       "      <td>Married-civ-spouse</td>\n",
       "      <td>Exec-managerial</td>\n",
       "      <td>Husband</td>\n",
       "      <td>White</td>\n",
       "      <td>Male</td>\n",
       "      <td>0</td>\n",
       "      <td>0</td>\n",
       "      <td>40</td>\n",
       "      <td>United-States</td>\n",
       "      <td>&gt;50K</td>\n",
       "    </tr>\n",
       "    <tr>\n",
       "      <th>32554</th>\n",
       "      <td>22</td>\n",
       "      <td>Private</td>\n",
       "      <td>310152</td>\n",
       "      <td>Some-college</td>\n",
       "      <td>10</td>\n",
       "      <td>Never-married</td>\n",
       "      <td>Protective-serv</td>\n",
       "      <td>Not-in-family</td>\n",
       "      <td>White</td>\n",
       "      <td>Male</td>\n",
       "      <td>0</td>\n",
       "      <td>0</td>\n",
       "      <td>40</td>\n",
       "      <td>United-States</td>\n",
       "      <td>&lt;=50K</td>\n",
       "    </tr>\n",
       "    <tr>\n",
       "      <th>32555</th>\n",
       "      <td>27</td>\n",
       "      <td>Private</td>\n",
       "      <td>257302</td>\n",
       "      <td>Assoc-acdm</td>\n",
       "      <td>12</td>\n",
       "      <td>Married-civ-spouse</td>\n",
       "      <td>Tech-support</td>\n",
       "      <td>Wife</td>\n",
       "      <td>White</td>\n",
       "      <td>Female</td>\n",
       "      <td>0</td>\n",
       "      <td>0</td>\n",
       "      <td>38</td>\n",
       "      <td>United-States</td>\n",
       "      <td>&lt;=50K</td>\n",
       "    </tr>\n",
       "    <tr>\n",
       "      <th>32556</th>\n",
       "      <td>40</td>\n",
       "      <td>Private</td>\n",
       "      <td>154374</td>\n",
       "      <td>HS-grad</td>\n",
       "      <td>9</td>\n",
       "      <td>Married-civ-spouse</td>\n",
       "      <td>Machine-op-inspct</td>\n",
       "      <td>Husband</td>\n",
       "      <td>White</td>\n",
       "      <td>Male</td>\n",
       "      <td>0</td>\n",
       "      <td>0</td>\n",
       "      <td>40</td>\n",
       "      <td>United-States</td>\n",
       "      <td>&gt;50K</td>\n",
       "    </tr>\n",
       "    <tr>\n",
       "      <th>32557</th>\n",
       "      <td>58</td>\n",
       "      <td>Private</td>\n",
       "      <td>151910</td>\n",
       "      <td>HS-grad</td>\n",
       "      <td>9</td>\n",
       "      <td>Widowed</td>\n",
       "      <td>Adm-clerical</td>\n",
       "      <td>Unmarried</td>\n",
       "      <td>White</td>\n",
       "      <td>Female</td>\n",
       "      <td>0</td>\n",
       "      <td>0</td>\n",
       "      <td>40</td>\n",
       "      <td>United-States</td>\n",
       "      <td>&lt;=50K</td>\n",
       "    </tr>\n",
       "    <tr>\n",
       "      <th>32558</th>\n",
       "      <td>22</td>\n",
       "      <td>Private</td>\n",
       "      <td>201490</td>\n",
       "      <td>HS-grad</td>\n",
       "      <td>9</td>\n",
       "      <td>Never-married</td>\n",
       "      <td>Adm-clerical</td>\n",
       "      <td>Own-child</td>\n",
       "      <td>White</td>\n",
       "      <td>Male</td>\n",
       "      <td>0</td>\n",
       "      <td>0</td>\n",
       "      <td>20</td>\n",
       "      <td>United-States</td>\n",
       "      <td>&lt;=50K</td>\n",
       "    </tr>\n",
       "    <tr>\n",
       "      <th>32559</th>\n",
       "      <td>52</td>\n",
       "      <td>Self-emp-inc</td>\n",
       "      <td>287927</td>\n",
       "      <td>HS-grad</td>\n",
       "      <td>9</td>\n",
       "      <td>Married-civ-spouse</td>\n",
       "      <td>Exec-managerial</td>\n",
       "      <td>Wife</td>\n",
       "      <td>White</td>\n",
       "      <td>Female</td>\n",
       "      <td>15024</td>\n",
       "      <td>0</td>\n",
       "      <td>40</td>\n",
       "      <td>United-States</td>\n",
       "      <td>&gt;50K</td>\n",
       "    </tr>\n",
       "  </tbody>\n",
       "</table>\n",
       "</div>"
      ],
      "text/plain": [
       "       Age          Workclass  Fnlwgt      Education  Education_num  \\\n",
       "32540   41            Private  202822        HS-grad              9   \n",
       "32541   72            Private  129912        HS-grad              9   \n",
       "32542   45          Local-gov  119199     Assoc-acdm             12   \n",
       "32543   31            Private  199655        Masters             14   \n",
       "32544   39          Local-gov  111499     Assoc-acdm             12   \n",
       "32545   37            Private  198216     Assoc-acdm             12   \n",
       "32546   43            Private  260761        HS-grad              9   \n",
       "32547   65   Self-emp-not-inc   99359    Prof-school             15   \n",
       "32548   43          State-gov  255835   Some-college             10   \n",
       "32549   43   Self-emp-not-inc   27242   Some-college             10   \n",
       "32550   32            Private   34066           10th              6   \n",
       "32551   43            Private   84661      Assoc-voc             11   \n",
       "32552   32            Private  116138        Masters             14   \n",
       "32553   53            Private  321865        Masters             14   \n",
       "32554   22            Private  310152   Some-college             10   \n",
       "32555   27            Private  257302     Assoc-acdm             12   \n",
       "32556   40            Private  154374        HS-grad              9   \n",
       "32557   58            Private  151910        HS-grad              9   \n",
       "32558   22            Private  201490        HS-grad              9   \n",
       "32559   52       Self-emp-inc  287927        HS-grad              9   \n",
       "\n",
       "            Marital_status          Occupation     Relationship  \\\n",
       "32540            Separated      Prof-specialty    Not-in-family   \n",
       "32541   Married-civ-spouse      Prof-specialty          Husband   \n",
       "32542             Divorced      Prof-specialty        Unmarried   \n",
       "32543             Divorced       Other-service    Not-in-family   \n",
       "32544   Married-civ-spouse        Adm-clerical             Wife   \n",
       "32545             Divorced        Tech-support    Not-in-family   \n",
       "32546   Married-civ-spouse   Machine-op-inspct          Husband   \n",
       "32547        Never-married      Prof-specialty    Not-in-family   \n",
       "32548             Divorced        Adm-clerical   Other-relative   \n",
       "32549   Married-civ-spouse        Craft-repair          Husband   \n",
       "32550   Married-civ-spouse   Handlers-cleaners          Husband   \n",
       "32551   Married-civ-spouse               Sales          Husband   \n",
       "32552        Never-married        Tech-support    Not-in-family   \n",
       "32553   Married-civ-spouse     Exec-managerial          Husband   \n",
       "32554        Never-married     Protective-serv    Not-in-family   \n",
       "32555   Married-civ-spouse        Tech-support             Wife   \n",
       "32556   Married-civ-spouse   Machine-op-inspct          Husband   \n",
       "32557              Widowed        Adm-clerical        Unmarried   \n",
       "32558        Never-married        Adm-clerical        Own-child   \n",
       "32559   Married-civ-spouse     Exec-managerial             Wife   \n",
       "\n",
       "                      Race      Sex  Capital_gain  Capital_loss  \\\n",
       "32540                Black   Female             0             0   \n",
       "32541                White     Male             0             0   \n",
       "32542                White   Female             0             0   \n",
       "32543                Other   Female             0             0   \n",
       "32544                White   Female             0             0   \n",
       "32545                White   Female             0             0   \n",
       "32546                White     Male             0             0   \n",
       "32547                White     Male          1086             0   \n",
       "32548                White   Female             0             0   \n",
       "32549                White     Male             0             0   \n",
       "32550   Amer-Indian-Eskimo     Male             0             0   \n",
       "32551                White     Male             0             0   \n",
       "32552   Asian-Pac-Islander     Male             0             0   \n",
       "32553                White     Male             0             0   \n",
       "32554                White     Male             0             0   \n",
       "32555                White   Female             0             0   \n",
       "32556                White     Male             0             0   \n",
       "32557                White   Female             0             0   \n",
       "32558                White     Male             0             0   \n",
       "32559                White   Female         15024             0   \n",
       "\n",
       "       Hours_per_week  Native_country  Income  \n",
       "32540              32   United-States   <=50K  \n",
       "32541              25   United-States   <=50K  \n",
       "32542              48   United-States   <=50K  \n",
       "32543              30   United-States   <=50K  \n",
       "32544              20   United-States    >50K  \n",
       "32545              40   United-States   <=50K  \n",
       "32546              40          Mexico   <=50K  \n",
       "32547              60   United-States   <=50K  \n",
       "32548              40   United-States   <=50K  \n",
       "32549              50   United-States   <=50K  \n",
       "32550              40   United-States   <=50K  \n",
       "32551              45   United-States   <=50K  \n",
       "32552              11          Taiwan   <=50K  \n",
       "32553              40   United-States    >50K  \n",
       "32554              40   United-States   <=50K  \n",
       "32555              38   United-States   <=50K  \n",
       "32556              40   United-States    >50K  \n",
       "32557              40   United-States   <=50K  \n",
       "32558              20   United-States   <=50K  \n",
       "32559              40   United-States    >50K  "
      ]
     },
     "execution_count": 36,
     "metadata": {},
     "output_type": "execute_result"
    }
   ],
   "source": [
    "cs.tail(20)"
   ]
  },
  {
   "cell_type": "markdown",
   "id": "56289a84",
   "metadata": {},
   "source": [
    "Replaced '?'"
   ]
  },
  {
   "cell_type": "code",
   "execution_count": 37,
   "id": "b39d27d3",
   "metadata": {},
   "outputs": [
    {
     "data": {
      "text/plain": [
       " Private             24532\n",
       " Self-emp-not-inc     2541\n",
       " Local-gov            2093\n",
       " State-gov            1297\n",
       " Self-emp-inc         1116\n",
       " Federal-gov           960\n",
       " Without-pay            14\n",
       " Never-worked            7\n",
       "Name: Workclass, dtype: int64"
      ]
     },
     "execution_count": 37,
     "metadata": {},
     "output_type": "execute_result"
    }
   ],
   "source": [
    "cs['Workclass'].value_counts()"
   ]
  },
  {
   "cell_type": "markdown",
   "id": "9b7c91d7",
   "metadata": {},
   "source": [
    "Now there is no '?'"
   ]
  },
  {
   "cell_type": "markdown",
   "id": "3c459690",
   "metadata": {},
   "source": [
    "# Encoding"
   ]
  },
  {
   "cell_type": "code",
   "execution_count": 38,
   "id": "b9b7347a",
   "metadata": {},
   "outputs": [
    {
     "data": {
      "text/plain": [
       " <=50K    24719\n",
       " >50K      7841\n",
       "Name: Income, dtype: int64"
      ]
     },
     "execution_count": 38,
     "metadata": {},
     "output_type": "execute_result"
    }
   ],
   "source": [
    "cs['Income'].value_counts()"
   ]
  },
  {
   "cell_type": "markdown",
   "id": "9e177501",
   "metadata": {},
   "source": [
    "We can encode this column using label encoding, this is our target variable which have imbalance in the data"
   ]
  },
  {
   "cell_type": "code",
   "execution_count": 39,
   "id": "d296a18d",
   "metadata": {},
   "outputs": [],
   "source": [
    "cs['Income']=LabelEncoder().fit_transform(cs['Income'])"
   ]
  },
  {
   "cell_type": "markdown",
   "id": "ad1a98f9",
   "metadata": {},
   "source": [
    "Encoded using labl encoder"
   ]
  },
  {
   "cell_type": "code",
   "execution_count": 40,
   "id": "3e40b4db",
   "metadata": {},
   "outputs": [
    {
     "data": {
      "text/plain": [
       "0    24719\n",
       "1     7841\n",
       "Name: Income, dtype: int64"
      ]
     },
     "execution_count": 40,
     "metadata": {},
     "output_type": "execute_result"
    }
   ],
   "source": [
    "cs['Income'].value_counts()"
   ]
  },
  {
   "cell_type": "markdown",
   "id": "d82c2ad6",
   "metadata": {},
   "source": [
    "<50k replaced with 0 and >50k replaced with 1"
   ]
  },
  {
   "cell_type": "markdown",
   "id": "c496d77e",
   "metadata": {},
   "source": [
    "# Correlation"
   ]
  },
  {
   "cell_type": "code",
   "execution_count": 41,
   "id": "de76e703",
   "metadata": {},
   "outputs": [
    {
     "data": {
      "image/png": "[encoded data removed]",
      "text/plain": [
       "<Figure size 432x288 with 2 Axes>"
      ]
     },
     "metadata": {
      "needs_background": "light"
     },
     "output_type": "display_data"
    }
   ],
   "source": [
    "sns.heatmap(cs.corr(),annot=True)\n",
    "plt.show()"
   ]
  },
  {
   "cell_type": "markdown",
   "id": "8139a1ba",
   "metadata": {},
   "source": [
    "Age is correlated to income,capital losss and gain affect in income"
   ]
  },
  {
   "cell_type": "markdown",
   "id": "a0d41281",
   "metadata": {},
   "source": [
    "Encoding"
   ]
  },
  {
   "cell_type": "code",
   "execution_count": 42,
   "id": "e189aa88",
   "metadata": {},
   "outputs": [],
   "source": [
    "le=LabelEncoder()\n",
    "var=['Workclass','Education','Marital_status','Occupation','Relationship','Race','Sex','Native_country']\n",
    "#storing column names to encode\n",
    "\n",
    "for i in var:\n",
    "    cs[i]=le.fit_transform(cs[i])"
   ]
  },
  {
   "cell_type": "markdown",
   "id": "22cc7923",
   "metadata": {},
   "source": [
    "Encoded features using label encoding"
   ]
  },
  {
   "cell_type": "code",
   "execution_count": 43,
   "id": "d48a2a93",
   "metadata": {},
   "outputs": [
    {
     "data": {
      "text/html": [
       "<div>\n",
       "<style scoped>\n",
       "    .dataframe tbody tr th:only-of-type {\n",
       "        vertical-align: middle;\n",
       "    }\n",
       "\n",
       "    .dataframe tbody tr th {\n",
       "        vertical-align: top;\n",
       "    }\n",
       "\n",
       "    .dataframe thead th {\n",
       "        text-align: right;\n",
       "    }\n",
       "</style>\n",
       "<table border=\"1\" class=\"dataframe\">\n",
       "  <thead>\n",
       "    <tr style=\"text-align: right;\">\n",
       "      <th></th>\n",
       "      <th>Age</th>\n",
       "      <th>Workclass</th>\n",
       "      <th>Fnlwgt</th>\n",
       "      <th>Education</th>\n",
       "      <th>Education_num</th>\n",
       "      <th>Marital_status</th>\n",
       "      <th>Occupation</th>\n",
       "      <th>Relationship</th>\n",
       "      <th>Race</th>\n",
       "      <th>Sex</th>\n",
       "      <th>Capital_gain</th>\n",
       "      <th>Capital_loss</th>\n",
       "      <th>Hours_per_week</th>\n",
       "      <th>Native_country</th>\n",
       "      <th>Income</th>\n",
       "    </tr>\n",
       "  </thead>\n",
       "  <tbody>\n",
       "    <tr>\n",
       "      <th>0</th>\n",
       "      <td>50</td>\n",
       "      <td>5</td>\n",
       "      <td>83311</td>\n",
       "      <td>9</td>\n",
       "      <td>13</td>\n",
       "      <td>2</td>\n",
       "      <td>3</td>\n",
       "      <td>0</td>\n",
       "      <td>4</td>\n",
       "      <td>1</td>\n",
       "      <td>0</td>\n",
       "      <td>0</td>\n",
       "      <td>13</td>\n",
       "      <td>38</td>\n",
       "      <td>0</td>\n",
       "    </tr>\n",
       "    <tr>\n",
       "      <th>1</th>\n",
       "      <td>38</td>\n",
       "      <td>3</td>\n",
       "      <td>215646</td>\n",
       "      <td>11</td>\n",
       "      <td>9</td>\n",
       "      <td>0</td>\n",
       "      <td>5</td>\n",
       "      <td>1</td>\n",
       "      <td>4</td>\n",
       "      <td>1</td>\n",
       "      <td>0</td>\n",
       "      <td>0</td>\n",
       "      <td>40</td>\n",
       "      <td>38</td>\n",
       "      <td>0</td>\n",
       "    </tr>\n",
       "    <tr>\n",
       "      <th>2</th>\n",
       "      <td>53</td>\n",
       "      <td>3</td>\n",
       "      <td>234721</td>\n",
       "      <td>1</td>\n",
       "      <td>7</td>\n",
       "      <td>2</td>\n",
       "      <td>5</td>\n",
       "      <td>0</td>\n",
       "      <td>2</td>\n",
       "      <td>1</td>\n",
       "      <td>0</td>\n",
       "      <td>0</td>\n",
       "      <td>40</td>\n",
       "      <td>38</td>\n",
       "      <td>0</td>\n",
       "    </tr>\n",
       "    <tr>\n",
       "      <th>3</th>\n",
       "      <td>28</td>\n",
       "      <td>3</td>\n",
       "      <td>338409</td>\n",
       "      <td>9</td>\n",
       "      <td>13</td>\n",
       "      <td>2</td>\n",
       "      <td>9</td>\n",
       "      <td>5</td>\n",
       "      <td>2</td>\n",
       "      <td>0</td>\n",
       "      <td>0</td>\n",
       "      <td>0</td>\n",
       "      <td>40</td>\n",
       "      <td>4</td>\n",
       "      <td>0</td>\n",
       "    </tr>\n",
       "    <tr>\n",
       "      <th>4</th>\n",
       "      <td>37</td>\n",
       "      <td>3</td>\n",
       "      <td>284582</td>\n",
       "      <td>12</td>\n",
       "      <td>14</td>\n",
       "      <td>2</td>\n",
       "      <td>3</td>\n",
       "      <td>5</td>\n",
       "      <td>4</td>\n",
       "      <td>0</td>\n",
       "      <td>0</td>\n",
       "      <td>0</td>\n",
       "      <td>40</td>\n",
       "      <td>38</td>\n",
       "      <td>0</td>\n",
       "    </tr>\n",
       "    <tr>\n",
       "      <th>5</th>\n",
       "      <td>49</td>\n",
       "      <td>3</td>\n",
       "      <td>160187</td>\n",
       "      <td>6</td>\n",
       "      <td>5</td>\n",
       "      <td>3</td>\n",
       "      <td>7</td>\n",
       "      <td>1</td>\n",
       "      <td>2</td>\n",
       "      <td>0</td>\n",
       "      <td>0</td>\n",
       "      <td>0</td>\n",
       "      <td>16</td>\n",
       "      <td>22</td>\n",
       "      <td>0</td>\n",
       "    </tr>\n",
       "  </tbody>\n",
       "</table>\n",
       "</div>"
      ],
      "text/plain": [
       "   Age  Workclass  Fnlwgt  Education  Education_num  Marital_status  \\\n",
       "0   50          5   83311          9             13               2   \n",
       "1   38          3  215646         11              9               0   \n",
       "2   53          3  234721          1              7               2   \n",
       "3   28          3  338409          9             13               2   \n",
       "4   37          3  284582         12             14               2   \n",
       "5   49          3  160187          6              5               3   \n",
       "\n",
       "   Occupation  Relationship  Race  Sex  Capital_gain  Capital_loss  \\\n",
       "0           3             0     4    1             0             0   \n",
       "1           5             1     4    1             0             0   \n",
       "2           5             0     2    1             0             0   \n",
       "3           9             5     2    0             0             0   \n",
       "4           3             5     4    0             0             0   \n",
       "5           7             1     2    0             0             0   \n",
       "\n",
       "   Hours_per_week  Native_country  Income  \n",
       "0              13              38       0  \n",
       "1              40              38       0  \n",
       "2              40              38       0  \n",
       "3              40               4       0  \n",
       "4              40              38       0  \n",
       "5              16              22       0  "
      ]
     },
     "execution_count": 43,
     "metadata": {},
     "output_type": "execute_result"
    }
   ],
   "source": [
    "cs.head(6)"
   ]
  },
  {
   "cell_type": "markdown",
   "id": "e00a82f5",
   "metadata": {},
   "source": [
    "Now we can observe all categorical data encoded"
   ]
  },
  {
   "cell_type": "markdown",
   "id": "32982552",
   "metadata": {},
   "source": [
    "# Seperating Features and Target"
   ]
  },
  {
   "cell_type": "code",
   "execution_count": 44,
   "id": "d1063c9a",
   "metadata": {},
   "outputs": [],
   "source": [
    "x=cs.drop('Income', axis = 1)\n",
    "y = cs['Income']"
   ]
  },
  {
   "cell_type": "markdown",
   "id": "fb70201e",
   "metadata": {},
   "source": [
    "Seperated features and target"
   ]
  },
  {
   "cell_type": "code",
   "execution_count": 45,
   "id": "7ee80fdb",
   "metadata": {},
   "outputs": [
    {
     "data": {
      "text/html": [
       "<div>\n",
       "<style scoped>\n",
       "    .dataframe tbody tr th:only-of-type {\n",
       "        vertical-align: middle;\n",
       "    }\n",
       "\n",
       "    .dataframe tbody tr th {\n",
       "        vertical-align: top;\n",
       "    }\n",
       "\n",
       "    .dataframe thead th {\n",
       "        text-align: right;\n",
       "    }\n",
       "</style>\n",
       "<table border=\"1\" class=\"dataframe\">\n",
       "  <thead>\n",
       "    <tr style=\"text-align: right;\">\n",
       "      <th></th>\n",
       "      <th>Age</th>\n",
       "      <th>Workclass</th>\n",
       "      <th>Fnlwgt</th>\n",
       "      <th>Education</th>\n",
       "      <th>Education_num</th>\n",
       "      <th>Marital_status</th>\n",
       "      <th>Occupation</th>\n",
       "      <th>Relationship</th>\n",
       "      <th>Race</th>\n",
       "      <th>Sex</th>\n",
       "      <th>Capital_gain</th>\n",
       "      <th>Capital_loss</th>\n",
       "      <th>Hours_per_week</th>\n",
       "      <th>Native_country</th>\n",
       "    </tr>\n",
       "  </thead>\n",
       "  <tbody>\n",
       "    <tr>\n",
       "      <th>0</th>\n",
       "      <td>50</td>\n",
       "      <td>5</td>\n",
       "      <td>83311</td>\n",
       "      <td>9</td>\n",
       "      <td>13</td>\n",
       "      <td>2</td>\n",
       "      <td>3</td>\n",
       "      <td>0</td>\n",
       "      <td>4</td>\n",
       "      <td>1</td>\n",
       "      <td>0</td>\n",
       "      <td>0</td>\n",
       "      <td>13</td>\n",
       "      <td>38</td>\n",
       "    </tr>\n",
       "    <tr>\n",
       "      <th>1</th>\n",
       "      <td>38</td>\n",
       "      <td>3</td>\n",
       "      <td>215646</td>\n",
       "      <td>11</td>\n",
       "      <td>9</td>\n",
       "      <td>0</td>\n",
       "      <td>5</td>\n",
       "      <td>1</td>\n",
       "      <td>4</td>\n",
       "      <td>1</td>\n",
       "      <td>0</td>\n",
       "      <td>0</td>\n",
       "      <td>40</td>\n",
       "      <td>38</td>\n",
       "    </tr>\n",
       "    <tr>\n",
       "      <th>2</th>\n",
       "      <td>53</td>\n",
       "      <td>3</td>\n",
       "      <td>234721</td>\n",
       "      <td>1</td>\n",
       "      <td>7</td>\n",
       "      <td>2</td>\n",
       "      <td>5</td>\n",
       "      <td>0</td>\n",
       "      <td>2</td>\n",
       "      <td>1</td>\n",
       "      <td>0</td>\n",
       "      <td>0</td>\n",
       "      <td>40</td>\n",
       "      <td>38</td>\n",
       "    </tr>\n",
       "    <tr>\n",
       "      <th>3</th>\n",
       "      <td>28</td>\n",
       "      <td>3</td>\n",
       "      <td>338409</td>\n",
       "      <td>9</td>\n",
       "      <td>13</td>\n",
       "      <td>2</td>\n",
       "      <td>9</td>\n",
       "      <td>5</td>\n",
       "      <td>2</td>\n",
       "      <td>0</td>\n",
       "      <td>0</td>\n",
       "      <td>0</td>\n",
       "      <td>40</td>\n",
       "      <td>4</td>\n",
       "    </tr>\n",
       "    <tr>\n",
       "      <th>4</th>\n",
       "      <td>37</td>\n",
       "      <td>3</td>\n",
       "      <td>284582</td>\n",
       "      <td>12</td>\n",
       "      <td>14</td>\n",
       "      <td>2</td>\n",
       "      <td>3</td>\n",
       "      <td>5</td>\n",
       "      <td>4</td>\n",
       "      <td>0</td>\n",
       "      <td>0</td>\n",
       "      <td>0</td>\n",
       "      <td>40</td>\n",
       "      <td>38</td>\n",
       "    </tr>\n",
       "  </tbody>\n",
       "</table>\n",
       "</div>"
      ],
      "text/plain": [
       "   Age  Workclass  Fnlwgt  Education  Education_num  Marital_status  \\\n",
       "0   50          5   83311          9             13               2   \n",
       "1   38          3  215646         11              9               0   \n",
       "2   53          3  234721          1              7               2   \n",
       "3   28          3  338409          9             13               2   \n",
       "4   37          3  284582         12             14               2   \n",
       "\n",
       "   Occupation  Relationship  Race  Sex  Capital_gain  Capital_loss  \\\n",
       "0           3             0     4    1             0             0   \n",
       "1           5             1     4    1             0             0   \n",
       "2           5             0     2    1             0             0   \n",
       "3           9             5     2    0             0             0   \n",
       "4           3             5     4    0             0             0   \n",
       "\n",
       "   Hours_per_week  Native_country  \n",
       "0              13              38  \n",
       "1              40              38  \n",
       "2              40              38  \n",
       "3              40               4  \n",
       "4              40              38  "
      ]
     },
     "execution_count": 45,
     "metadata": {},
     "output_type": "execute_result"
    }
   ],
   "source": [
    "x.head()"
   ]
  },
  {
   "cell_type": "markdown",
   "id": "22f1b4db",
   "metadata": {},
   "source": [
    "Sample features"
   ]
  },
  {
   "cell_type": "code",
   "execution_count": 46,
   "id": "27b479b4",
   "metadata": {},
   "outputs": [
    {
     "data": {
      "text/html": [
       "<div>\n",
       "<style scoped>\n",
       "    .dataframe tbody tr th:only-of-type {\n",
       "        vertical-align: middle;\n",
       "    }\n",
       "\n",
       "    .dataframe tbody tr th {\n",
       "        vertical-align: top;\n",
       "    }\n",
       "\n",
       "    .dataframe thead th {\n",
       "        text-align: right;\n",
       "    }\n",
       "</style>\n",
       "<table border=\"1\" class=\"dataframe\">\n",
       "  <thead>\n",
       "    <tr style=\"text-align: right;\">\n",
       "      <th></th>\n",
       "      <th>Income</th>\n",
       "    </tr>\n",
       "  </thead>\n",
       "  <tbody>\n",
       "    <tr>\n",
       "      <th>0</th>\n",
       "      <td>0</td>\n",
       "    </tr>\n",
       "    <tr>\n",
       "      <th>1</th>\n",
       "      <td>0</td>\n",
       "    </tr>\n",
       "    <tr>\n",
       "      <th>2</th>\n",
       "      <td>0</td>\n",
       "    </tr>\n",
       "    <tr>\n",
       "      <th>3</th>\n",
       "      <td>0</td>\n",
       "    </tr>\n",
       "    <tr>\n",
       "      <th>4</th>\n",
       "      <td>0</td>\n",
       "    </tr>\n",
       "  </tbody>\n",
       "</table>\n",
       "</div>"
      ],
      "text/plain": [
       "   Income\n",
       "0       0\n",
       "1       0\n",
       "2       0\n",
       "3       0\n",
       "4       0"
      ]
     },
     "execution_count": 46,
     "metadata": {},
     "output_type": "execute_result"
    }
   ],
   "source": [
    "pd.DataFrame(y.head())"
   ]
  },
  {
   "cell_type": "markdown",
   "id": "8b4b535c",
   "metadata": {},
   "source": [
    "Sample target values"
   ]
  },
  {
   "cell_type": "markdown",
   "id": "406c3f06",
   "metadata": {},
   "source": [
    "# Scaling"
   ]
  },
  {
   "cell_type": "code",
   "execution_count": 47,
   "id": "ab63b3b8",
   "metadata": {},
   "outputs": [],
   "source": [
    "sc=StandardScaler()\n",
    "x=sc.fit_transform(x)"
   ]
  },
  {
   "cell_type": "markdown",
   "id": "66da702d",
   "metadata": {},
   "source": [
    "Scaled features"
   ]
  },
  {
   "cell_type": "markdown",
   "id": "8d3be8f7",
   "metadata": {},
   "source": [
    "# Balancing Target Variable"
   ]
  },
  {
   "cell_type": "markdown",
   "id": "a6c04357",
   "metadata": {},
   "source": [
    "# Over Sampling"
   ]
  },
  {
   "cell_type": "code",
   "execution_count": 48,
   "id": "54c56895",
   "metadata": {},
   "outputs": [],
   "source": [
    "from imblearn.over_sampling import SMOTE\n",
    "sm=SMOTE()\n",
    "x,y=sm.fit_resample(x,y)"
   ]
  },
  {
   "cell_type": "markdown",
   "id": "8cb0f426",
   "metadata": {},
   "source": [
    " Class balanced using smote"
   ]
  },
  {
   "cell_type": "code",
   "execution_count": 49,
   "id": "ab83c0cd",
   "metadata": {},
   "outputs": [
    {
     "data": {
      "text/plain": [
       "0    24719\n",
       "1    24719\n",
       "Name: Income, dtype: int64"
      ]
     },
     "execution_count": 49,
     "metadata": {},
     "output_type": "execute_result"
    }
   ],
   "source": [
    "y.value_counts()"
   ]
  },
  {
   "cell_type": "markdown",
   "id": "1f91e01d",
   "metadata": {},
   "source": [
    "Balanced"
   ]
  },
  {
   "cell_type": "markdown",
   "id": "4c4a6b96",
   "metadata": {},
   "source": [
    "# Model Building"
   ]
  },
  {
   "cell_type": "code",
   "execution_count": 50,
   "id": "ae020dda",
   "metadata": {},
   "outputs": [
    {
     "name": "stdout",
     "output_type": "stream",
     "text": [
      "At random state 0,the training accuarcy is:- 0.7654404228922811\n",
      "At random state 0,the testing accuracy is:- 0.7774271844660194\n",
      "\n",
      "\n",
      "At random state 1,the training accuarcy is:- 0.7690004854630779\n",
      "At random state 1,the testing accuracy is:- 0.764967637540453\n",
      "\n",
      "\n",
      "At random state 2,the training accuarcy is:- 0.7670316629807433\n",
      "At random state 2,the testing accuracy is:- 0.7720064724919093\n",
      "\n",
      "\n",
      "At random state 2 model performs well\n",
      "At random state 3,the training accuarcy is:- 0.7672474243486703\n",
      "At random state 3,the testing accuracy is:- 0.7682847896440129\n",
      "\n",
      "\n",
      "At random state 3 model performs well\n",
      "At random state 4,the training accuarcy is:- 0.7698095905928044\n",
      "At random state 4,the testing accuracy is:- 0.7617313915857605\n",
      "\n",
      "\n",
      "At random state 5,the training accuarcy is:- 0.7699714116187497\n",
      "At random state 5,the testing accuracy is:- 0.762378640776699\n",
      "\n",
      "\n",
      "At random state 6,the training accuarcy is:- 0.768730783753169\n",
      "At random state 6,the testing accuracy is:- 0.7674757281553398\n",
      "\n",
      "\n",
      "At random state 6 model performs well\n",
      "At random state 7,the training accuarcy is:- 0.7685689627272236\n",
      "At random state 7,the testing accuracy is:- 0.7661003236245955\n",
      "\n",
      "\n",
      "At random state 7 model performs well\n",
      "At random state 8,the training accuarcy is:- 0.7691353363180322\n",
      "At random state 8,the testing accuracy is:- 0.7650485436893204\n",
      "\n",
      "\n",
      "At random state 8 model performs well\n",
      "At random state 9,the training accuarcy is:- 0.7685419925562328\n",
      "At random state 9,the testing accuracy is:- 0.7661003236245955\n",
      "\n",
      "\n",
      "At random state 9 model performs well\n",
      "At random state 10,the training accuarcy is:- 0.7676789470845246\n",
      "At random state 10,the testing accuracy is:- 0.7676375404530744\n",
      "\n",
      "\n",
      "At random state 10 model performs well\n",
      "At random state 11,the training accuarcy is:- 0.768488052214251\n",
      "At random state 11,the testing accuracy is:- 0.7677184466019418\n",
      "\n",
      "\n",
      "At random state 11 model performs well\n",
      "At random state 12,the training accuarcy is:- 0.7674901558875883\n",
      "At random state 12,the testing accuracy is:- 0.7690938511326861\n",
      "\n",
      "\n",
      "At random state 12 model performs well\n",
      "At random state 13,the training accuarcy is:- 0.7685689627272236\n",
      "At random state 13,the testing accuracy is:- 0.7658576051779935\n",
      "\n",
      "\n",
      "At random state 13 model performs well\n",
      "At random state 14,the training accuarcy is:- 0.7684341118722693\n",
      "At random state 14,the testing accuracy is:- 0.766747572815534\n",
      "\n",
      "\n",
      "At random state 14 model performs well\n",
      "At random state 15,the training accuarcy is:- 0.7661416473380441\n",
      "At random state 15,the testing accuracy is:- 0.7736245954692557\n",
      "\n",
      "\n",
      "At random state 15 model performs well\n",
      "At random state 16,the training accuarcy is:- 0.7694050380279411\n",
      "At random state 16,the testing accuracy is:- 0.7642394822006473\n",
      "\n",
      "\n",
      "At random state 17,the training accuarcy is:- 0.767112573493716\n",
      "At random state 17,the testing accuracy is:- 0.7696601941747573\n",
      "\n",
      "\n",
      "At random state 17 model performs well\n",
      "At random state 18,the training accuarcy is:- 0.7678677382814607\n",
      "At random state 18,the testing accuracy is:- 0.7696601941747573\n",
      "\n",
      "\n",
      "At random state 18 model performs well\n",
      "At random state 19,the training accuarcy is:- 0.7675980365715519\n",
      "At random state 19,the testing accuracy is:- 0.7707928802588997\n",
      "\n",
      "\n",
      "At random state 19 model performs well\n",
      "At random state 20,the training accuarcy is:- 0.7690813959760505\n",
      "At random state 20,the testing accuracy is:- 0.766747572815534\n",
      "\n",
      "\n",
      "At random state 20 model performs well\n",
      "At random state 21,the training accuarcy is:- 0.7682992610173148\n",
      "At random state 21,the testing accuracy is:- 0.764967637540453\n",
      "\n",
      "\n",
      "At random state 22,the training accuarcy is:- 0.7677598575974972\n",
      "At random state 22,the testing accuracy is:- 0.7702265372168284\n",
      "\n",
      "\n",
      "At random state 22 model performs well\n",
      "At random state 23,the training accuarcy is:- 0.7667619612708344\n",
      "At random state 23,the testing accuracy is:- 0.7722491909385113\n",
      "\n",
      "\n",
      "At random state 23 model performs well\n",
      "At random state 24,the training accuarcy is:- 0.7681104698203787\n",
      "At random state 24,the testing accuracy is:- 0.7668284789644013\n",
      "\n",
      "\n",
      "At random state 24 model performs well\n",
      "At random state 25,the training accuarcy is:- 0.7685959328982146\n",
      "At random state 25,the testing accuracy is:- 0.766504854368932\n",
      "\n",
      "\n",
      "At random state 25 model performs well\n",
      "At random state 26,the training accuarcy is:- 0.7670316629807433\n",
      "At random state 26,the testing accuracy is:- 0.7707928802588997\n",
      "\n",
      "\n",
      "At random state 26 model performs well\n",
      "At random state 27,the training accuarcy is:- 0.7694589783699228\n",
      "At random state 27,the testing accuracy is:- 0.7669093851132686\n",
      "\n",
      "\n",
      "At random state 27 model performs well\n",
      "At random state 28,the training accuarcy is:- 0.767112573493716\n",
      "At random state 28,the testing accuracy is:- 0.7707119741100323\n",
      "\n",
      "\n",
      "At random state 28 model performs well\n",
      "At random state 29,the training accuarcy is:- 0.7687038135821781\n",
      "At random state 29,the testing accuracy is:- 0.7661003236245955\n",
      "\n",
      "\n",
      "At random state 29 model performs well\n",
      "At random state 30,the training accuarcy is:- 0.7689195749501052\n",
      "At random state 30,the testing accuracy is:- 0.7663430420711974\n",
      "\n",
      "\n",
      "At random state 30 model performs well\n",
      "At random state 31,the training accuarcy is:- 0.7682992610173148\n",
      "At random state 31,the testing accuracy is:- 0.7666666666666667\n",
      "\n",
      "\n",
      "At random state 31 model performs well\n",
      "At random state 32,the training accuarcy is:- 0.7672474243486703\n",
      "At random state 32,the testing accuracy is:- 0.7673139158576052\n",
      "\n",
      "\n",
      "At random state 32 model performs well\n",
      "At random state 33,the training accuarcy is:- 0.7684610820432601\n",
      "At random state 33,the testing accuracy is:- 0.7683656957928803\n",
      "\n",
      "\n",
      "At random state 33 model performs well\n",
      "At random state 34,the training accuarcy is:- 0.7698095905928044\n",
      "At random state 34,the testing accuracy is:- 0.7644822006472491\n",
      "\n",
      "\n",
      "At random state 35,the training accuarcy is:- 0.7672474243486703\n",
      "At random state 35,the testing accuracy is:- 0.7694983818770227\n",
      "\n",
      "\n",
      "At random state 35 model performs well\n",
      "At random state 36,the training accuarcy is:- 0.765683154431199\n",
      "At random state 36,the testing accuracy is:- 0.7742718446601942\n",
      "\n",
      "\n",
      "At random state 36 model performs well\n",
      "At random state 37,the training accuarcy is:- 0.7658719456281353\n",
      "At random state 37,the testing accuracy is:- 0.7724919093851133\n",
      "\n",
      "\n",
      "At random state 37 model performs well\n",
      "At random state 38,the training accuarcy is:- 0.7674631857165974\n",
      "At random state 38,the testing accuracy is:- 0.7701456310679612\n",
      "\n",
      "\n",
      "At random state 38 model performs well\n",
      "At random state 39,the training accuarcy is:- 0.7651437510113814\n",
      "At random state 39,the testing accuracy is:- 0.7737864077669903\n",
      "\n",
      "\n",
      "At random state 39 model performs well\n",
      "At random state 40,the training accuarcy is:- 0.7680565294783969\n",
      "At random state 40,the testing accuracy is:- 0.769336569579288\n",
      "\n",
      "\n",
      "At random state 40 model performs well\n",
      "At random state 41,the training accuarcy is:- 0.768272290846324\n",
      "At random state 41,the testing accuracy is:- 0.7665857605177994\n",
      "\n",
      "\n",
      "At random state 41 model performs well\n",
      "At random state 42,the training accuarcy is:- 0.7683262311883058\n",
      "At random state 42,the testing accuracy is:- 0.7668284789644013\n",
      "\n",
      "\n",
      "At random state 42 model performs well\n",
      "At random state 43,the training accuarcy is:- 0.7688386644371326\n",
      "At random state 43,the testing accuracy is:- 0.7648058252427185\n",
      "\n",
      "\n",
      "At random state 44,the training accuarcy is:- 0.7678407681104699\n",
      "At random state 44,the testing accuracy is:- 0.7694983818770227\n",
      "\n",
      "\n",
      "At random state 44 model performs well\n",
      "At random state 45,the training accuarcy is:- 0.7678407681104699\n",
      "At random state 45,the testing accuracy is:- 0.7676375404530744\n",
      "\n",
      "\n",
      "At random state 45 model performs well\n",
      "At random state 46,the training accuarcy is:- 0.7699714116187497\n",
      "At random state 46,the testing accuracy is:- 0.7617313915857605\n",
      "\n",
      "\n",
      "At random state 47,the training accuarcy is:- 0.7683262311883058\n",
      "At random state 47,the testing accuracy is:- 0.7676375404530744\n",
      "\n",
      "\n",
      "At random state 47 model performs well\n",
      "At random state 48,the training accuarcy is:- 0.7675171260585792\n",
      "At random state 48,the testing accuracy is:- 0.7697411003236246\n",
      "\n",
      "\n",
      "At random state 48 model performs well\n",
      "At random state 49,the training accuarcy is:- 0.7699444414477588\n",
      "At random state 49,the testing accuracy is:- 0.7619741100323625\n",
      "\n",
      "\n",
      "At random state 50,the training accuarcy is:- 0.7673553050326339\n",
      "At random state 50,the testing accuracy is:- 0.7684466019417475\n",
      "\n",
      "\n",
      "At random state 50 model performs well\n",
      "At random state 51,the training accuarcy is:- 0.7699714116187497\n",
      "At random state 51,the testing accuracy is:- 0.7635922330097087\n",
      "\n",
      "\n"
     ]
    },
    {
     "name": "stdout",
     "output_type": "stream",
     "text": [
      "At random state 52,the training accuarcy is:- 0.7656292140892174\n",
      "At random state 52,the testing accuracy is:- 0.7744336569579288\n",
      "\n",
      "\n",
      "At random state 52 model performs well\n",
      "At random state 53,the training accuarcy is:- 0.7662225578510168\n",
      "At random state 53,the testing accuracy is:- 0.7745954692556635\n",
      "\n",
      "\n",
      "At random state 53 model performs well\n",
      "At random state 54,the training accuarcy is:- 0.7689735152920869\n",
      "At random state 54,the testing accuracy is:- 0.7671521035598705\n",
      "\n",
      "\n",
      "At random state 54 model performs well\n",
      "At random state 55,the training accuarcy is:- 0.7713199201682939\n",
      "At random state 55,the testing accuracy is:- 0.7581715210355987\n",
      "\n",
      "\n",
      "At random state 56,the training accuarcy is:- 0.7686229030692054\n",
      "At random state 56,the testing accuracy is:- 0.7669093851132686\n",
      "\n",
      "\n",
      "At random state 56 model performs well\n",
      "At random state 57,the training accuarcy is:- 0.7677598575974972\n",
      "At random state 57,the testing accuracy is:- 0.7674757281553398\n",
      "\n",
      "\n",
      "At random state 57 model performs well\n",
      "At random state 58,the training accuarcy is:- 0.7674901558875883\n",
      "At random state 58,the testing accuracy is:- 0.7717637540453074\n",
      "\n",
      "\n",
      "At random state 58 model performs well\n",
      "At random state 59,the training accuarcy is:- 0.7699444414477588\n",
      "At random state 59,the testing accuracy is:- 0.7640776699029126\n",
      "\n",
      "\n",
      "At random state 60,the training accuarcy is:- 0.7667619612708344\n",
      "At random state 60,the testing accuracy is:- 0.7712783171521036\n",
      "\n",
      "\n",
      "At random state 60 model performs well\n",
      "At random state 61,the training accuarcy is:- 0.7678407681104699\n",
      "At random state 61,the testing accuracy is:- 0.7694983818770227\n",
      "\n",
      "\n",
      "At random state 61 model performs well\n",
      "At random state 62,the training accuarcy is:- 0.7684610820432601\n",
      "At random state 62,the testing accuracy is:- 0.766504854368932\n",
      "\n",
      "\n",
      "At random state 62 model performs well\n",
      "At random state 63,the training accuarcy is:- 0.7688116942661416\n",
      "At random state 63,the testing accuracy is:- 0.7645631067961165\n",
      "\n",
      "\n",
      "At random state 64,the training accuarcy is:- 0.7677598575974972\n",
      "At random state 64,the testing accuracy is:- 0.7690129449838188\n",
      "\n",
      "\n",
      "At random state 64 model performs well\n",
      "At random state 65,the training accuarcy is:- 0.7697286800798318\n",
      "At random state 65,the testing accuracy is:- 0.7648058252427185\n",
      "\n",
      "\n",
      "At random state 66,the training accuarcy is:- 0.769432008198932\n",
      "At random state 66,the testing accuracy is:- 0.7661003236245955\n",
      "\n",
      "\n",
      "At random state 66 model performs well\n",
      "At random state 67,the training accuarcy is:- 0.7674092453746156\n",
      "At random state 67,the testing accuracy is:- 0.7682038834951457\n",
      "\n",
      "\n",
      "At random state 67 model performs well\n",
      "At random state 68,the training accuarcy is:- 0.7659798263120988\n",
      "At random state 68,the testing accuracy is:- 0.7748381877022654\n",
      "\n",
      "\n",
      "At random state 68 model performs well\n",
      "At random state 69,the training accuarcy is:- 0.7680834996493878\n",
      "At random state 69,the testing accuracy is:- 0.7684466019417475\n",
      "\n",
      "\n",
      "At random state 69 model performs well\n",
      "At random state 70,the training accuarcy is:- 0.7676250067425427\n",
      "At random state 70,the testing accuracy is:- 0.7690938511326861\n",
      "\n",
      "\n",
      "At random state 70 model performs well\n",
      "At random state 71,the training accuarcy is:- 0.7662764981929986\n",
      "At random state 71,the testing accuracy is:- 0.7741100323624596\n",
      "\n",
      "\n",
      "At random state 71 model performs well\n",
      "At random state 72,the training accuarcy is:- 0.7685689627272236\n",
      "At random state 72,the testing accuracy is:- 0.7661003236245955\n",
      "\n",
      "\n",
      "At random state 72 model performs well\n",
      "At random state 73,the training accuarcy is:- 0.771778413075139\n",
      "At random state 73,the testing accuracy is:- 0.7580906148867314\n",
      "\n",
      "\n",
      "At random state 74,the training accuarcy is:- 0.7683532013592966\n",
      "At random state 74,the testing accuracy is:- 0.7683656957928803\n",
      "\n",
      "\n",
      "At random state 74 model performs well\n",
      "At random state 75,the training accuarcy is:- 0.7670316629807433\n",
      "At random state 75,the testing accuracy is:- 0.7713592233009708\n",
      "\n",
      "\n",
      "At random state 75 model performs well\n",
      "At random state 76,the training accuarcy is:- 0.767328334861643\n",
      "At random state 76,the testing accuracy is:- 0.7686893203883495\n",
      "\n",
      "\n",
      "At random state 76 model performs well\n",
      "At random state 77,the training accuarcy is:- 0.7696747397378499\n",
      "At random state 77,the testing accuracy is:- 0.7608414239482201\n",
      "\n",
      "\n",
      "At random state 78,the training accuarcy is:- 0.7685959328982146\n",
      "At random state 78,the testing accuracy is:- 0.7659385113268609\n",
      "\n",
      "\n",
      "At random state 78 model performs well\n",
      "At random state 79,the training accuarcy is:- 0.767085603322725\n",
      "At random state 79,the testing accuracy is:- 0.7697411003236246\n",
      "\n",
      "\n",
      "At random state 79 model performs well\n",
      "At random state 80,the training accuarcy is:- 0.7677328874265062\n",
      "At random state 80,the testing accuracy is:- 0.7690938511326861\n",
      "\n",
      "\n",
      "At random state 80 model performs well\n",
      "At random state 81,the training accuarcy is:- 0.7686498732401963\n",
      "At random state 81,the testing accuracy is:- 0.7652912621359224\n",
      "\n",
      "\n",
      "At random state 81 model performs well\n",
      "At random state 82,the training accuarcy is:- 0.7668428717838071\n",
      "At random state 82,the testing accuracy is:- 0.772411003236246\n",
      "\n",
      "\n",
      "At random state 82 model performs well\n",
      "At random state 83,the training accuarcy is:- 0.7686768434111872\n",
      "At random state 83,the testing accuracy is:- 0.764967637540453\n",
      "\n",
      "\n",
      "At random state 84,the training accuarcy is:- 0.7691083661470414\n",
      "At random state 84,the testing accuracy is:- 0.765453074433657\n",
      "\n",
      "\n",
      "At random state 84 model performs well\n",
      "At random state 85,the training accuarcy is:- 0.768730783753169\n",
      "At random state 85,the testing accuracy is:- 0.766747572815534\n",
      "\n",
      "\n",
      "At random state 85 model performs well\n",
      "At random state 86,the training accuarcy is:- 0.7685689627272236\n",
      "At random state 86,the testing accuracy is:- 0.765453074433657\n",
      "\n",
      "\n",
      "At random state 86 model performs well\n",
      "At random state 87,the training accuarcy is:- 0.7673553050326339\n",
      "At random state 87,the testing accuracy is:- 0.7689320388349514\n",
      "\n",
      "\n",
      "At random state 87 model performs well\n",
      "At random state 88,the training accuarcy is:- 0.7687038135821781\n",
      "At random state 88,the testing accuracy is:- 0.7684466019417475\n",
      "\n",
      "\n",
      "At random state 88 model performs well\n",
      "At random state 89,the training accuarcy is:- 0.7677868277684881\n",
      "At random state 89,the testing accuracy is:- 0.7678802588996764\n",
      "\n",
      "\n",
      "At random state 89 model performs well\n",
      "At random state 90,the training accuarcy is:- 0.7677059172555154\n",
      "At random state 90,the testing accuracy is:- 0.7695792880258899\n",
      "\n",
      "\n",
      "At random state 90 model performs well\n",
      "At random state 91,the training accuarcy is:- 0.7674901558875883\n",
      "At random state 91,the testing accuracy is:- 0.7696601941747573\n",
      "\n",
      "\n",
      "At random state 91 model performs well\n",
      "At random state 92,the training accuarcy is:- 0.7658449754571444\n",
      "At random state 92,the testing accuracy is:- 0.7730582524271845\n",
      "\n",
      "\n",
      "At random state 92 model performs well\n",
      "At random state 93,the training accuarcy is:- 0.7667889314418254\n",
      "At random state 93,the testing accuracy is:- 0.7728155339805826\n",
      "\n",
      "\n",
      "At random state 93 model performs well\n",
      "At random state 94,the training accuarcy is:- 0.7666001402448892\n",
      "At random state 94,the testing accuracy is:- 0.7734627831715211\n",
      "\n",
      "\n",
      "At random state 94 model performs well\n",
      "At random state 95,the training accuarcy is:- 0.7672743945196613\n",
      "At random state 95,the testing accuracy is:- 0.7716828478964401\n",
      "\n",
      "\n",
      "At random state 95 model performs well\n",
      "At random state 96,the training accuarcy is:- 0.7692432170019958\n",
      "At random state 96,the testing accuracy is:- 0.7629449838187702\n",
      "\n",
      "\n",
      "At random state 97,the training accuarcy is:- 0.7683532013592966\n",
      "At random state 97,the testing accuracy is:- 0.7686084142394822\n",
      "\n",
      "\n",
      "At random state 97 model performs well\n",
      "At random state 98,the training accuarcy is:- 0.768029559307406\n",
      "At random state 98,the testing accuracy is:- 0.7713592233009708\n",
      "\n",
      "\n",
      "At random state 98 model performs well\n",
      "At random state 99,the training accuarcy is:- 0.7702411133286585\n",
      "At random state 99,the testing accuracy is:- 0.7629449838187702\n",
      "\n",
      "\n",
      "At random state 100,the training accuarcy is:- 0.7677868277684881\n",
      "At random state 100,the testing accuracy is:- 0.7710355987055016\n",
      "\n",
      "\n",
      "At random state 100 model performs well\n",
      "At random state 101,the training accuarcy is:- 0.7681104698203787\n",
      "At random state 101,the testing accuracy is:- 0.766747572815534\n",
      "\n",
      "\n",
      "At random state 101 model performs well\n",
      "At random state 102,the training accuarcy is:- 0.7671395436647068\n",
      "At random state 102,the testing accuracy is:- 0.7703883495145631\n",
      "\n",
      "\n",
      "At random state 102 model performs well\n",
      "At random state 103,the training accuarcy is:- 0.7681913803333513\n",
      "At random state 103,the testing accuracy is:- 0.7677184466019418\n",
      "\n",
      "\n",
      "At random state 103 model performs well\n"
     ]
    },
    {
     "name": "stdout",
     "output_type": "stream",
     "text": [
      "At random state 104,the training accuarcy is:- 0.7697556502508226\n",
      "At random state 104,the testing accuracy is:- 0.7639967637540453\n",
      "\n",
      "\n",
      "At random state 105,the training accuarcy is:- 0.7688656346081234\n",
      "At random state 105,the testing accuracy is:- 0.7668284789644013\n",
      "\n",
      "\n",
      "At random state 105 model performs well\n",
      "At random state 106,the training accuarcy is:- 0.7679216786234425\n",
      "At random state 106,the testing accuracy is:- 0.7694174757281553\n",
      "\n",
      "\n",
      "At random state 106 model performs well\n",
      "At random state 107,the training accuarcy is:- 0.7684071417012784\n",
      "At random state 107,the testing accuracy is:- 0.7669902912621359\n",
      "\n",
      "\n",
      "At random state 107 model performs well\n",
      "At random state 108,the training accuarcy is:- 0.7672474243486703\n",
      "At random state 108,the testing accuracy is:- 0.7709546925566343\n",
      "\n",
      "\n",
      "At random state 108 model performs well\n",
      "At random state 109,the training accuarcy is:- 0.7688656346081234\n",
      "At random state 109,the testing accuracy is:- 0.7675566343042072\n",
      "\n",
      "\n",
      "At random state 109 model performs well\n",
      "At random state 110,the training accuarcy is:- 0.7692162468310049\n",
      "At random state 110,the testing accuracy is:- 0.7643203883495145\n",
      "\n",
      "\n",
      "At random state 111,the training accuarcy is:- 0.7698635309347861\n",
      "At random state 111,the testing accuracy is:- 0.7648867313915858\n",
      "\n",
      "\n",
      "At random state 112,the training accuarcy is:- 0.7677328874265062\n",
      "At random state 112,the testing accuracy is:- 0.7686893203883495\n",
      "\n",
      "\n",
      "At random state 112 model performs well\n",
      "At random state 113,the training accuarcy is:- 0.7667349910998436\n",
      "At random state 113,the testing accuracy is:- 0.7727346278317152\n",
      "\n",
      "\n",
      "At random state 113 model performs well\n",
      "At random state 114,the training accuarcy is:- 0.7678407681104699\n",
      "At random state 114,the testing accuracy is:- 0.7679611650485437\n",
      "\n",
      "\n",
      "At random state 114 model performs well\n",
      "At random state 115,the training accuarcy is:- 0.7671665138356977\n",
      "At random state 115,the testing accuracy is:- 0.7694174757281553\n",
      "\n",
      "\n",
      "At random state 115 model performs well\n",
      "At random state 116,the training accuarcy is:- 0.7681104698203787\n",
      "At random state 116,the testing accuracy is:- 0.766747572815534\n",
      "\n",
      "\n",
      "At random state 116 model performs well\n",
      "At random state 117,the training accuarcy is:- 0.7691353363180322\n",
      "At random state 117,the testing accuracy is:- 0.7678802588996764\n",
      "\n",
      "\n",
      "At random state 117 model performs well\n",
      "At random state 118,the training accuarcy is:- 0.7661955876800259\n",
      "At random state 118,the testing accuracy is:- 0.7756472491909385\n",
      "\n",
      "\n",
      "At random state 119,the training accuarcy is:- 0.7683801715302875\n",
      "At random state 119,the testing accuracy is:- 0.7703074433656958\n",
      "\n",
      "\n",
      "At random state 119 model performs well\n",
      "At random state 120,the training accuarcy is:- 0.7657910351151627\n",
      "At random state 120,the testing accuracy is:- 0.7749190938511327\n",
      "\n",
      "\n",
      "At random state 120 model performs well\n",
      "At random state 121,the training accuarcy is:- 0.7666001402448892\n",
      "At random state 121,the testing accuracy is:- 0.7733009708737864\n",
      "\n",
      "\n",
      "At random state 121 model performs well\n",
      "At random state 122,the training accuarcy is:- 0.7685150223852419\n",
      "At random state 122,the testing accuracy is:- 0.766504854368932\n",
      "\n",
      "\n",
      "At random state 122 model performs well\n",
      "At random state 123,the training accuarcy is:- 0.7677059172555154\n",
      "At random state 123,the testing accuracy is:- 0.7707119741100323\n",
      "\n",
      "\n",
      "At random state 123 model performs well\n",
      "At random state 124,the training accuarcy is:- 0.7680834996493878\n",
      "At random state 124,the testing accuracy is:- 0.7686893203883495\n",
      "\n",
      "\n",
      "At random state 124 model performs well\n",
      "At random state 125,the training accuarcy is:- 0.769432008198932\n",
      "At random state 125,the testing accuracy is:- 0.7644822006472491\n",
      "\n",
      "\n",
      "At random state 126,the training accuarcy is:- 0.7671395436647068\n",
      "At random state 126,the testing accuracy is:- 0.7715210355987056\n",
      "\n",
      "\n",
      "At random state 126 model performs well\n",
      "At random state 127,the training accuarcy is:- 0.7668428717838071\n",
      "At random state 127,the testing accuracy is:- 0.7737864077669903\n",
      "\n",
      "\n",
      "At random state 127 model performs well\n",
      "At random state 128,the training accuarcy is:- 0.7684610820432601\n",
      "At random state 128,the testing accuracy is:- 0.7686084142394822\n",
      "\n",
      "\n",
      "At random state 128 model performs well\n",
      "At random state 129,the training accuarcy is:- 0.7690544258050596\n",
      "At random state 129,the testing accuracy is:- 0.7650485436893204\n",
      "\n",
      "\n",
      "At random state 129 model performs well\n",
      "At random state 130,the training accuarcy is:- 0.7663843788769621\n",
      "At random state 130,the testing accuracy is:- 0.7726537216828478\n",
      "\n",
      "\n",
      "At random state 130 model performs well\n",
      "At random state 131,the training accuarcy is:- 0.7676250067425427\n",
      "At random state 131,the testing accuracy is:- 0.7703074433656958\n",
      "\n",
      "\n",
      "At random state 131 model performs well\n",
      "At random state 132,the training accuarcy is:- 0.769432008198932\n",
      "At random state 132,the testing accuracy is:- 0.7673139158576052\n",
      "\n",
      "\n",
      "At random state 132 model performs well\n",
      "At random state 133,the training accuarcy is:- 0.7658989157991262\n",
      "At random state 133,the testing accuracy is:- 0.7747572815533981\n",
      "\n",
      "\n",
      "At random state 133 model performs well\n",
      "At random state 134,the training accuarcy is:- 0.768488052214251\n",
      "At random state 134,the testing accuracy is:- 0.7670711974110033\n",
      "\n",
      "\n",
      "At random state 134 model performs well\n",
      "At random state 135,the training accuarcy is:- 0.7681374399913695\n",
      "At random state 135,the testing accuracy is:- 0.7702265372168284\n",
      "\n",
      "\n",
      "At random state 135 model performs well\n",
      "At random state 136,the training accuarcy is:- 0.7700253519607314\n",
      "At random state 136,the testing accuracy is:- 0.7593851132686085\n",
      "\n",
      "\n",
      "At random state 137,the training accuarcy is:- 0.768272290846324\n",
      "At random state 137,the testing accuracy is:- 0.7673139158576052\n",
      "\n",
      "\n",
      "At random state 137 model performs well\n",
      "At random state 138,the training accuarcy is:- 0.769432008198932\n",
      "At random state 138,the testing accuracy is:- 0.765453074433657\n",
      "\n",
      "\n",
      "At random state 138 model performs well\n",
      "At random state 139,the training accuarcy is:- 0.7685959328982146\n",
      "At random state 139,the testing accuracy is:- 0.7640776699029126\n",
      "\n",
      "\n",
      "At random state 140,the training accuarcy is:- 0.7682453206753331\n",
      "At random state 140,the testing accuracy is:- 0.7656957928802589\n",
      "\n",
      "\n",
      "At random state 140 model performs well\n",
      "At random state 141,the training accuarcy is:- 0.7697017099088408\n",
      "At random state 141,the testing accuracy is:- 0.7673948220064725\n",
      "\n",
      "\n",
      "At random state 141 model performs well\n",
      "At random state 142,the training accuarcy is:- 0.7669777226387615\n",
      "At random state 142,the testing accuracy is:- 0.7716828478964401\n",
      "\n",
      "\n",
      "At random state 142 model performs well\n",
      "At random state 143,the training accuarcy is:- 0.7705377852095582\n",
      "At random state 143,the testing accuracy is:- 0.7621359223300971\n",
      "\n",
      "\n",
      "At random state 144,the training accuarcy is:- 0.7661416473380441\n",
      "At random state 144,the testing accuracy is:- 0.7747572815533981\n",
      "\n",
      "\n",
      "At random state 144 model performs well\n",
      "At random state 145,the training accuarcy is:- 0.7684341118722693\n",
      "At random state 145,the testing accuracy is:- 0.7694983818770227\n",
      "\n",
      "\n",
      "At random state 145 model performs well\n",
      "At random state 146,the training accuarcy is:- 0.7676250067425427\n",
      "At random state 146,the testing accuracy is:- 0.772411003236246\n",
      "\n",
      "\n",
      "At random state 146 model performs well\n",
      "At random state 147,the training accuarcy is:- 0.7682992610173148\n",
      "At random state 147,the testing accuracy is:- 0.7660194174757281\n",
      "\n",
      "\n",
      "At random state 147 model performs well\n",
      "At random state 148,the training accuarcy is:- 0.7697286800798318\n",
      "At random state 148,the testing accuracy is:- 0.763915857605178\n",
      "\n",
      "\n",
      "At random state 149,the training accuarcy is:- 0.7685150223852419\n",
      "At random state 149,the testing accuracy is:- 0.766747572815534\n",
      "\n",
      "\n",
      "At random state 149 model performs well\n",
      "At random state 150,the training accuarcy is:- 0.7692971573439775\n",
      "At random state 150,the testing accuracy is:- 0.7637540453074434\n",
      "\n",
      "\n",
      "At random state 151,the training accuarcy is:- 0.7687577539241599\n",
      "At random state 151,the testing accuracy is:- 0.767799352750809\n",
      "\n",
      "\n",
      "At random state 151 model performs well\n",
      "At random state 152,the training accuarcy is:- 0.7681644101623605\n",
      "At random state 152,the testing accuracy is:- 0.7681229773462783\n",
      "\n",
      "\n",
      "At random state 152 model performs well\n",
      "At random state 153,the training accuarcy is:- 0.768730783753169\n",
      "At random state 153,the testing accuracy is:- 0.76415857605178\n",
      "\n",
      "\n"
     ]
    },
    {
     "name": "stdout",
     "output_type": "stream",
     "text": [
      "At random state 154,the training accuarcy is:- 0.7688386644371326\n",
      "At random state 154,the testing accuracy is:- 0.7651294498381876\n",
      "\n",
      "\n",
      "At random state 154 model performs well\n",
      "At random state 155,the training accuarcy is:- 0.7688116942661416\n",
      "At random state 155,the testing accuracy is:- 0.7682038834951457\n",
      "\n",
      "\n",
      "At random state 155 model performs well\n",
      "At random state 156,the training accuarcy is:- 0.7675710664005609\n",
      "At random state 156,the testing accuracy is:- 0.7694174757281553\n",
      "\n",
      "\n",
      "At random state 156 model performs well\n",
      "At random state 157,the training accuarcy is:- 0.765683154431199\n",
      "At random state 157,the testing accuracy is:- 0.7736245954692557\n",
      "\n",
      "\n",
      "At random state 157 model performs well\n",
      "At random state 158,the training accuarcy is:- 0.771751442904148\n",
      "At random state 158,the testing accuracy is:- 0.7607605177993527\n",
      "\n",
      "\n",
      "At random state 159,the training accuarcy is:- 0.7695938292248773\n",
      "At random state 159,the testing accuracy is:- 0.763673139158576\n",
      "\n",
      "\n",
      "At random state 160,the training accuarcy is:- 0.7670046928097524\n",
      "At random state 160,the testing accuracy is:- 0.7728155339805826\n",
      "\n",
      "\n",
      "At random state 160 model performs well\n",
      "At random state 161,the training accuarcy is:- 0.7713468903392847\n",
      "At random state 161,the testing accuracy is:- 0.7586569579288026\n",
      "\n",
      "\n",
      "At random state 162,the training accuarcy is:- 0.7684341118722693\n",
      "At random state 162,the testing accuracy is:- 0.763915857605178\n",
      "\n",
      "\n",
      "At random state 163,the training accuarcy is:- 0.767085603322725\n",
      "At random state 163,the testing accuracy is:- 0.7704692556634304\n",
      "\n",
      "\n",
      "At random state 163 model performs well\n",
      "At random state 164,the training accuarcy is:- 0.7663034683639894\n",
      "At random state 164,the testing accuracy is:- 0.7738673139158576\n",
      "\n",
      "\n",
      "At random state 164 model performs well\n",
      "At random state 165,the training accuarcy is:- 0.7681374399913695\n",
      "At random state 165,the testing accuracy is:- 0.7702265372168284\n",
      "\n",
      "\n",
      "At random state 165 model performs well\n",
      "At random state 166,the training accuarcy is:- 0.7693780678569502\n",
      "At random state 166,the testing accuracy is:- 0.7642394822006473\n",
      "\n",
      "\n",
      "At random state 167,the training accuarcy is:- 0.7691083661470414\n",
      "At random state 167,the testing accuracy is:- 0.7661003236245955\n",
      "\n",
      "\n",
      "At random state 167 model performs well\n",
      "At random state 168,the training accuarcy is:- 0.7669777226387615\n",
      "At random state 168,the testing accuracy is:- 0.773705501618123\n",
      "\n",
      "\n",
      "At random state 168 model performs well\n",
      "At random state 169,the training accuarcy is:- 0.7685150223852419\n",
      "At random state 169,the testing accuracy is:- 0.7675566343042072\n",
      "\n",
      "\n",
      "At random state 169 model performs well\n",
      "At random state 170,the training accuarcy is:- 0.7704838448675765\n",
      "At random state 170,the testing accuracy is:- 0.7629449838187702\n",
      "\n",
      "\n",
      "At random state 171,the training accuarcy is:- 0.7666540805868709\n",
      "At random state 171,the testing accuracy is:- 0.7732200647249191\n",
      "\n",
      "\n",
      "At random state 171 model performs well\n",
      "At random state 172,the training accuarcy is:- 0.7667889314418254\n",
      "At random state 172,the testing accuracy is:- 0.7703883495145631\n",
      "\n",
      "\n",
      "At random state 172 model performs well\n",
      "At random state 173,the training accuarcy is:- 0.7666001402448892\n",
      "At random state 173,the testing accuracy is:- 0.7718446601941747\n",
      "\n",
      "\n",
      "At random state 173 model performs well\n",
      "At random state 174,the training accuarcy is:- 0.7682183505043422\n",
      "At random state 174,the testing accuracy is:- 0.764967637540453\n",
      "\n",
      "\n",
      "At random state 175,the training accuarcy is:- 0.7682453206753331\n",
      "At random state 175,the testing accuracy is:- 0.7696601941747573\n",
      "\n",
      "\n",
      "At random state 175 model performs well\n",
      "At random state 176,the training accuarcy is:- 0.7687038135821781\n",
      "At random state 176,the testing accuracy is:- 0.7653721682847896\n",
      "\n",
      "\n",
      "At random state 176 model performs well\n",
      "At random state 177,the training accuarcy is:- 0.7669237822967797\n",
      "At random state 177,the testing accuracy is:- 0.7712783171521036\n",
      "\n",
      "\n",
      "At random state 177 model performs well\n",
      "At random state 178,the training accuarcy is:- 0.768029559307406\n",
      "At random state 178,the testing accuracy is:- 0.7695792880258899\n",
      "\n",
      "\n",
      "At random state 178 model performs well\n",
      "At random state 179,the training accuarcy is:- 0.7683801715302875\n",
      "At random state 179,the testing accuracy is:- 0.7696601941747573\n",
      "\n",
      "\n",
      "At random state 179 model performs well\n",
      "At random state 180,the training accuarcy is:- 0.7689465451210961\n",
      "At random state 180,the testing accuracy is:- 0.7634304207119741\n",
      "\n",
      "\n",
      "At random state 181,the training accuarcy is:- 0.7664113490479529\n",
      "At random state 181,the testing accuracy is:- 0.7699838187702266\n",
      "\n",
      "\n",
      "At random state 181 model performs well\n",
      "At random state 182,the training accuarcy is:- 0.7681644101623605\n",
      "At random state 182,the testing accuracy is:- 0.7672330097087379\n",
      "\n",
      "\n",
      "At random state 182 model performs well\n",
      "At random state 183,the training accuarcy is:- 0.7675171260585792\n",
      "At random state 183,the testing accuracy is:- 0.7712783171521036\n",
      "\n",
      "\n",
      "At random state 183 model performs well\n",
      "At random state 184,the training accuarcy is:- 0.7695938292248773\n",
      "At random state 184,the testing accuracy is:- 0.7656957928802589\n",
      "\n",
      "\n",
      "At random state 184 model performs well\n",
      "At random state 185,the training accuarcy is:- 0.7704838448675765\n",
      "At random state 185,the testing accuracy is:- 0.761326860841424\n",
      "\n",
      "\n",
      "At random state 186,the training accuarcy is:- 0.7657640649441717\n",
      "At random state 186,the testing accuracy is:- 0.7741909385113268\n",
      "\n",
      "\n",
      "At random state 186 model performs well\n",
      "At random state 187,the training accuarcy is:- 0.7686768434111872\n",
      "At random state 187,the testing accuracy is:- 0.7671521035598705\n",
      "\n",
      "\n",
      "At random state 187 model performs well\n",
      "At random state 188,the training accuarcy is:- 0.767328334861643\n",
      "At random state 188,the testing accuracy is:- 0.7694983818770227\n",
      "\n",
      "\n",
      "At random state 188 model performs well\n",
      "At random state 189,the training accuarcy is:- 0.7665192297319166\n",
      "At random state 189,the testing accuracy is:- 0.7725728155339806\n",
      "\n",
      "\n",
      "At random state 189 model performs well\n",
      "At random state 190,the training accuarcy is:- 0.7678137979394789\n",
      "At random state 190,the testing accuracy is:- 0.7703074433656958\n",
      "\n",
      "\n",
      "At random state 190 model performs well\n",
      "At random state 191,the training accuarcy is:- 0.7690274556340687\n",
      "At random state 191,the testing accuracy is:- 0.7631877022653721\n",
      "\n",
      "\n",
      "At random state 192,the training accuarcy is:- 0.7656561842602082\n",
      "At random state 192,the testing accuracy is:- 0.7748381877022654\n",
      "\n",
      "\n",
      "At random state 192 model performs well\n",
      "At random state 193,the training accuarcy is:- 0.7677328874265062\n",
      "At random state 193,the testing accuracy is:- 0.7724919093851133\n",
      "\n",
      "\n",
      "At random state 193 model performs well\n",
      "At random state 194,the training accuarcy is:- 0.7681104698203787\n",
      "At random state 194,the testing accuracy is:- 0.7683656957928803\n",
      "\n",
      "\n",
      "At random state 194 model performs well\n",
      "At random state 195,the training accuarcy is:- 0.7686498732401963\n",
      "At random state 195,the testing accuracy is:- 0.7698220064724919\n",
      "\n",
      "\n",
      "At random state 195 model performs well\n",
      "At random state 196,the training accuarcy is:- 0.7702411133286585\n",
      "At random state 196,the testing accuracy is:- 0.7596278317152103\n",
      "\n",
      "\n",
      "At random state 197,the training accuarcy is:- 0.7682453206753331\n",
      "At random state 197,the testing accuracy is:- 0.7682038834951457\n",
      "\n",
      "\n",
      "At random state 197 model performs well\n",
      "At random state 198,the training accuarcy is:- 0.7671395436647068\n",
      "At random state 198,the testing accuracy is:- 0.7690938511326861\n",
      "\n",
      "\n",
      "At random state 198 model performs well\n",
      "At random state 199,the training accuarcy is:- 0.7673013646906521\n",
      "At random state 199,the testing accuracy is:- 0.7696601941747573\n",
      "\n",
      "\n",
      "At random state 199 model performs well\n"
     ]
    }
   ],
   "source": [
    "#logistic regression\n",
    "lr=LogisticRegression()\n",
    "l=[]\n",
    "for i in range(0,200):\n",
    "    x_train,x_test,y_train,y_test=train_test_split(x,y,test_size=0.25,random_state=i)\n",
    "    lr.fit(x_train,y_train)\n",
    "    pred_train=lr.predict(x_train)\n",
    "    pred_test=lr.predict(x_test)\n",
    "    print(f\"At random state {i},the training accuarcy is:- {accuracy_score(y_train,pred_train)}\")\n",
    "    print(f\"At random state {i},the testing accuracy is:- {accuracy_score(y_test,pred_test)}\")\n",
    "    print(\"\\n\")\n",
    "    if round(accuracy_score(y_train,pred_train)*100)==round(accuracy_score(y_test,pred_test)*100):\n",
    "        print(\"At random state\",i,\"model performs well\")\n",
    "        l.append(i)"
   ]
  },
  {
   "cell_type": "markdown",
   "id": "9e721e03",
   "metadata": {},
   "source": [
    "Splitted data into train and testdata,finding best random states for logistic regression"
   ]
  },
  {
   "cell_type": "code",
   "execution_count": 51,
   "id": "cea4d5ef",
   "metadata": {},
   "outputs": [
    {
     "data": {
      "text/plain": [
       "[2,\n",
       " 3,\n",
       " 6,\n",
       " 7,\n",
       " 8,\n",
       " 9,\n",
       " 10,\n",
       " 11,\n",
       " 12,\n",
       " 13,\n",
       " 14,\n",
       " 15,\n",
       " 17,\n",
       " 18,\n",
       " 19,\n",
       " 20,\n",
       " 22,\n",
       " 23,\n",
       " 24,\n",
       " 25,\n",
       " 26,\n",
       " 27,\n",
       " 28,\n",
       " 29,\n",
       " 30,\n",
       " 31,\n",
       " 32,\n",
       " 33,\n",
       " 35,\n",
       " 36,\n",
       " 37,\n",
       " 38,\n",
       " 39,\n",
       " 40,\n",
       " 41,\n",
       " 42,\n",
       " 44,\n",
       " 45,\n",
       " 47,\n",
       " 48,\n",
       " 50,\n",
       " 52,\n",
       " 53,\n",
       " 54,\n",
       " 56,\n",
       " 57,\n",
       " 58,\n",
       " 60,\n",
       " 61,\n",
       " 62,\n",
       " 64,\n",
       " 66,\n",
       " 67,\n",
       " 68,\n",
       " 69,\n",
       " 70,\n",
       " 71,\n",
       " 72,\n",
       " 74,\n",
       " 75,\n",
       " 76,\n",
       " 78,\n",
       " 79,\n",
       " 80,\n",
       " 81,\n",
       " 82,\n",
       " 84,\n",
       " 85,\n",
       " 86,\n",
       " 87,\n",
       " 88,\n",
       " 89,\n",
       " 90,\n",
       " 91,\n",
       " 92,\n",
       " 93,\n",
       " 94,\n",
       " 95,\n",
       " 97,\n",
       " 98,\n",
       " 100,\n",
       " 101,\n",
       " 102,\n",
       " 103,\n",
       " 105,\n",
       " 106,\n",
       " 107,\n",
       " 108,\n",
       " 109,\n",
       " 112,\n",
       " 113,\n",
       " 114,\n",
       " 115,\n",
       " 116,\n",
       " 117,\n",
       " 119,\n",
       " 120,\n",
       " 121,\n",
       " 122,\n",
       " 123,\n",
       " 124,\n",
       " 126,\n",
       " 127,\n",
       " 128,\n",
       " 129,\n",
       " 130,\n",
       " 131,\n",
       " 132,\n",
       " 133,\n",
       " 134,\n",
       " 135,\n",
       " 137,\n",
       " 138,\n",
       " 140,\n",
       " 141,\n",
       " 142,\n",
       " 144,\n",
       " 145,\n",
       " 146,\n",
       " 147,\n",
       " 149,\n",
       " 151,\n",
       " 152,\n",
       " 154,\n",
       " 155,\n",
       " 156,\n",
       " 157,\n",
       " 160,\n",
       " 163,\n",
       " 164,\n",
       " 165,\n",
       " 167,\n",
       " 168,\n",
       " 169,\n",
       " 171,\n",
       " 172,\n",
       " 173,\n",
       " 175,\n",
       " 176,\n",
       " 177,\n",
       " 178,\n",
       " 179,\n",
       " 181,\n",
       " 182,\n",
       " 183,\n",
       " 184,\n",
       " 186,\n",
       " 187,\n",
       " 188,\n",
       " 189,\n",
       " 190,\n",
       " 192,\n",
       " 193,\n",
       " 194,\n",
       " 195,\n",
       " 197,\n",
       " 198,\n",
       " 199]"
      ]
     },
     "execution_count": 51,
     "metadata": {},
     "output_type": "execute_result"
    }
   ],
   "source": [
    "l"
   ]
  },
  {
   "cell_type": "markdown",
   "id": "e19f9454",
   "metadata": {},
   "source": [
    "List of best random states"
   ]
  },
  {
   "cell_type": "code",
   "execution_count": 52,
   "id": "588c3ef9",
   "metadata": {},
   "outputs": [
    {
     "name": "stdout",
     "output_type": "stream",
     "text": [
      "              precision    recall  f1-score   support\n",
      "\n",
      "           0       0.77      0.77      0.77      6201\n",
      "           1       0.77      0.77      0.77      6159\n",
      "\n",
      "    accuracy                           0.77     12360\n",
      "   macro avg       0.77      0.77      0.77     12360\n",
      "weighted avg       0.77      0.77      0.77     12360\n",
      "\n",
      "[[4784 1417]\n",
      " [1430 4729]]\n"
     ]
    }
   ],
   "source": [
    "x_train,x_test,y_train,y_test=train_test_split(x,y,test_size=0.25,random_state=199)\n",
    "lr.fit(x_train,y_train)\n",
    "predlr=lr.predict(x_test)\n",
    "acc_l=classification_report(y_test,predlr)\n",
    "print(acc_l)\n",
    "print(confusion_matrix(y_test,predlr))"
   ]
  },
  {
   "cell_type": "markdown",
   "id": "1e9cc275",
   "metadata": {},
   "source": [
    "Apply best random state,print accuracy score and confusion matrix"
   ]
  },
  {
   "cell_type": "code",
   "execution_count": 53,
   "id": "aa74f35e",
   "metadata": {},
   "outputs": [
    {
     "name": "stdout",
     "output_type": "stream",
     "text": [
      "At random state 0,the training accuarcy is:- 0.9999730298290092\n",
      "At random state 0,the testing accuracy is:- 0.8539644012944984\n",
      "\n",
      "\n",
      "At random state 1,the training accuarcy is:- 0.9999730298290092\n",
      "At random state 1,the testing accuracy is:- 0.857200647249191\n",
      "\n",
      "\n",
      "At random state 2,the training accuarcy is:- 1.0\n",
      "At random state 2,the testing accuracy is:- 0.8543689320388349\n",
      "\n",
      "\n",
      "At random state 3,the training accuarcy is:- 1.0\n",
      "At random state 3,the testing accuracy is:- 0.8572815533980582\n",
      "\n",
      "\n",
      "At random state 4,the training accuarcy is:- 1.0\n",
      "At random state 4,the testing accuracy is:- 0.8498381877022654\n",
      "\n",
      "\n",
      "At random state 5,the training accuarcy is:- 1.0\n",
      "At random state 5,the testing accuracy is:- 0.8507281553398058\n",
      "\n",
      "\n",
      "At random state 6,the training accuarcy is:- 0.9999730298290092\n",
      "At random state 6,the testing accuracy is:- 0.857200647249191\n",
      "\n",
      "\n",
      "At random state 7,the training accuarcy is:- 1.0\n",
      "At random state 7,the testing accuracy is:- 0.8532362459546926\n",
      "\n",
      "\n",
      "At random state 8,the training accuarcy is:- 1.0\n",
      "At random state 8,the testing accuracy is:- 0.8495954692556634\n",
      "\n",
      "\n",
      "At random state 9,the training accuarcy is:- 0.9999730298290092\n",
      "At random state 9,the testing accuracy is:- 0.8515372168284789\n",
      "\n",
      "\n",
      "At random state 10,the training accuarcy is:- 1.0\n",
      "At random state 10,the testing accuracy is:- 0.8491909385113269\n",
      "\n",
      "\n",
      "At random state 11,the training accuarcy is:- 1.0\n",
      "At random state 11,the testing accuracy is:- 0.8592233009708737\n",
      "\n",
      "\n",
      "At random state 12,the training accuarcy is:- 1.0\n",
      "At random state 12,the testing accuracy is:- 0.8536407766990292\n",
      "\n",
      "\n",
      "At random state 13,the training accuarcy is:- 0.9999730298290092\n",
      "At random state 13,the testing accuracy is:- 0.8554207119741101\n",
      "\n",
      "\n",
      "At random state 14,the training accuarcy is:- 1.0\n",
      "At random state 14,the testing accuracy is:- 0.8533980582524272\n",
      "\n",
      "\n",
      "At random state 15,the training accuarcy is:- 0.9999730298290092\n",
      "At random state 15,the testing accuracy is:- 0.8489482200647249\n",
      "\n",
      "\n",
      "At random state 16,the training accuarcy is:- 0.9999730298290092\n",
      "At random state 16,the testing accuracy is:- 0.8533980582524272\n",
      "\n",
      "\n",
      "At random state 17,the training accuarcy is:- 1.0\n",
      "At random state 17,the testing accuracy is:- 0.8548543689320388\n",
      "\n",
      "\n",
      "At random state 18,the training accuarcy is:- 0.9999730298290092\n",
      "At random state 18,the testing accuracy is:- 0.8508899676375404\n",
      "\n",
      "\n",
      "At random state 19,the training accuarcy is:- 0.9999730298290092\n",
      "At random state 19,the testing accuracy is:- 0.8546925566343042\n",
      "\n",
      "\n",
      "At random state 20,the training accuarcy is:- 0.9999730298290092\n",
      "At random state 20,the testing accuracy is:- 0.855663430420712\n",
      "\n",
      "\n",
      "At random state 21,the training accuarcy is:- 0.9999730298290092\n",
      "At random state 21,the testing accuracy is:- 0.8557443365695793\n",
      "\n",
      "\n",
      "At random state 22,the training accuarcy is:- 0.9999730298290092\n",
      "At random state 22,the testing accuracy is:- 0.8543689320388349\n",
      "\n",
      "\n",
      "At random state 23,the training accuarcy is:- 1.0\n",
      "At random state 23,the testing accuracy is:- 0.8542071197411003\n",
      "\n",
      "\n",
      "At random state 24,the training accuarcy is:- 0.9999730298290092\n",
      "At random state 24,the testing accuracy is:- 0.84457928802589\n",
      "\n",
      "\n",
      "At random state 25,the training accuarcy is:- 0.9999730298290092\n",
      "At random state 25,the testing accuracy is:- 0.8479773462783171\n",
      "\n",
      "\n",
      "At random state 26,the training accuarcy is:- 0.9999730298290092\n",
      "At random state 26,the testing accuracy is:- 0.8579288025889967\n",
      "\n",
      "\n",
      "At random state 27,the training accuarcy is:- 1.0\n",
      "At random state 27,the testing accuracy is:- 0.8521844660194174\n",
      "\n",
      "\n",
      "At random state 28,the training accuarcy is:- 1.0\n",
      "At random state 28,the testing accuracy is:- 0.8515372168284789\n",
      "\n",
      "\n",
      "At random state 29,the training accuarcy is:- 1.0\n",
      "At random state 29,the testing accuracy is:- 0.852831715210356\n",
      "\n",
      "\n",
      "At random state 30,the training accuarcy is:- 0.9999730298290092\n",
      "At random state 30,the testing accuracy is:- 0.8500809061488673\n",
      "\n",
      "\n",
      "At random state 31,the training accuarcy is:- 1.0\n",
      "At random state 31,the testing accuracy is:- 0.8573624595469256\n",
      "\n",
      "\n",
      "At random state 32,the training accuarcy is:- 0.9999730298290092\n",
      "At random state 32,the testing accuracy is:- 0.856957928802589\n",
      "\n",
      "\n",
      "At random state 33,the training accuarcy is:- 1.0\n",
      "At random state 33,the testing accuracy is:- 0.8532362459546926\n",
      "\n",
      "\n",
      "At random state 34,the training accuarcy is:- 0.9999730298290092\n",
      "At random state 34,the testing accuracy is:- 0.8521844660194174\n",
      "\n",
      "\n",
      "At random state 35,the training accuarcy is:- 0.9999730298290092\n",
      "At random state 35,the testing accuracy is:- 0.8478155339805825\n",
      "\n",
      "\n",
      "At random state 36,the training accuarcy is:- 0.9999730298290092\n",
      "At random state 36,the testing accuracy is:- 0.8551779935275081\n",
      "\n",
      "\n",
      "At random state 37,the training accuarcy is:- 1.0\n",
      "At random state 37,the testing accuracy is:- 0.852588996763754\n",
      "\n",
      "\n",
      "At random state 38,the training accuarcy is:- 0.9999730298290092\n",
      "At random state 38,the testing accuracy is:- 0.8535598705501618\n",
      "\n",
      "\n",
      "At random state 39,the training accuarcy is:- 0.9999730298290092\n",
      "At random state 39,the testing accuracy is:- 0.8558252427184466\n",
      "\n",
      "\n",
      "At random state 40,the training accuarcy is:- 1.0\n",
      "At random state 40,the testing accuracy is:- 0.8462783171521036\n",
      "\n",
      "\n",
      "At random state 41,the training accuarcy is:- 0.9999730298290092\n",
      "At random state 41,the testing accuracy is:- 0.8547734627831716\n",
      "\n",
      "\n",
      "At random state 42,the training accuarcy is:- 1.0\n",
      "At random state 42,the testing accuracy is:- 0.8508090614886732\n",
      "\n",
      "\n",
      "At random state 43,the training accuarcy is:- 1.0\n",
      "At random state 43,the testing accuracy is:- 0.8508090614886732\n",
      "\n",
      "\n",
      "At random state 44,the training accuarcy is:- 0.9999730298290092\n",
      "At random state 44,the testing accuracy is:- 0.8567152103559871\n",
      "\n",
      "\n",
      "At random state 45,the training accuarcy is:- 0.9999730298290092\n",
      "At random state 45,the testing accuracy is:- 0.8515372168284789\n",
      "\n",
      "\n",
      "At random state 46,the training accuarcy is:- 1.0\n",
      "At random state 46,the testing accuracy is:- 0.8516181229773463\n",
      "\n",
      "\n",
      "At random state 47,the training accuarcy is:- 0.9999730298290092\n",
      "At random state 47,the testing accuracy is:- 0.8518608414239482\n",
      "\n",
      "\n",
      "At random state 48,the training accuarcy is:- 0.9999730298290092\n",
      "At random state 48,the testing accuracy is:- 0.8529126213592233\n",
      "\n",
      "\n",
      "At random state 49,the training accuarcy is:- 0.9999730298290092\n",
      "At random state 49,the testing accuracy is:- 0.8530744336569579\n",
      "\n",
      "\n",
      "At random state 50,the training accuarcy is:- 0.9999730298290092\n",
      "At random state 50,the testing accuracy is:- 0.8517799352750809\n",
      "\n",
      "\n",
      "At random state 51,the training accuarcy is:- 0.9999730298290092\n",
      "At random state 51,the testing accuracy is:- 0.855663430420712\n",
      "\n",
      "\n",
      "At random state 52,the training accuarcy is:- 0.9999730298290092\n",
      "At random state 52,the testing accuracy is:- 0.8508090614886732\n",
      "\n",
      "\n",
      "At random state 53,the training accuarcy is:- 0.9999730298290092\n",
      "At random state 53,the testing accuracy is:- 0.8531553398058253\n",
      "\n",
      "\n",
      "At random state 54,the training accuarcy is:- 0.9999730298290092\n",
      "At random state 54,the testing accuracy is:- 0.852588996763754\n",
      "\n",
      "\n",
      "At random state 55,the training accuarcy is:- 0.9999730298290092\n",
      "At random state 55,the testing accuracy is:- 0.848462783171521\n",
      "\n",
      "\n",
      "At random state 56,the training accuarcy is:- 1.0\n",
      "At random state 56,the testing accuracy is:- 0.852831715210356\n",
      "\n",
      "\n",
      "At random state 57,the training accuarcy is:- 1.0\n",
      "At random state 57,the testing accuracy is:- 0.8545307443365696\n",
      "\n",
      "\n",
      "At random state 58,the training accuarcy is:- 0.9999730298290092\n",
      "At random state 58,the testing accuracy is:- 0.8529935275080907\n",
      "\n",
      "\n",
      "At random state 59,the training accuarcy is:- 0.9999730298290092\n",
      "At random state 59,the testing accuracy is:- 0.8507281553398058\n",
      "\n",
      "\n",
      "At random state 60,the training accuarcy is:- 1.0\n",
      "At random state 60,the testing accuracy is:- 0.8560679611650486\n",
      "\n",
      "\n",
      "At random state 61,the training accuarcy is:- 1.0\n",
      "At random state 61,the testing accuracy is:- 0.8532362459546926\n",
      "\n",
      "\n",
      "At random state 62,the training accuarcy is:- 1.0\n",
      "At random state 62,the testing accuracy is:- 0.8489482200647249\n",
      "\n",
      "\n",
      "At random state 63,the training accuarcy is:- 0.9999730298290092\n",
      "At random state 63,the testing accuracy is:- 0.8525080906148867\n",
      "\n",
      "\n",
      "At random state 64,the training accuarcy is:- 1.0\n",
      "At random state 64,the testing accuracy is:- 0.8563106796116505\n",
      "\n",
      "\n",
      "At random state 65,the training accuarcy is:- 0.9999730298290092\n",
      "At random state 65,the testing accuracy is:- 0.8502427184466019\n",
      "\n",
      "\n"
     ]
    },
    {
     "name": "stdout",
     "output_type": "stream",
     "text": [
      "At random state 66,the training accuarcy is:- 1.0\n",
      "At random state 66,the testing accuracy is:- 0.8521844660194174\n",
      "\n",
      "\n",
      "At random state 67,the training accuarcy is:- 0.9999730298290092\n",
      "At random state 67,the testing accuracy is:- 0.8480582524271845\n",
      "\n",
      "\n",
      "At random state 68,the training accuarcy is:- 0.9999730298290092\n",
      "At random state 68,the testing accuracy is:- 0.8526699029126213\n",
      "\n",
      "\n",
      "At random state 69,the training accuarcy is:- 0.9999730298290092\n",
      "At random state 69,the testing accuracy is:- 0.8533171521035599\n",
      "\n",
      "\n",
      "At random state 70,the training accuarcy is:- 1.0\n",
      "At random state 70,the testing accuracy is:- 0.8508899676375404\n",
      "\n",
      "\n",
      "At random state 71,the training accuarcy is:- 0.9999730298290092\n",
      "At random state 71,the testing accuracy is:- 0.8509708737864078\n",
      "\n",
      "\n",
      "At random state 72,the training accuarcy is:- 0.9999730298290092\n",
      "At random state 72,the testing accuracy is:- 0.8467637540453075\n",
      "\n",
      "\n",
      "At random state 73,the training accuarcy is:- 0.9999730298290092\n",
      "At random state 73,the testing accuracy is:- 0.8429611650485437\n",
      "\n",
      "\n",
      "At random state 74,the training accuarcy is:- 0.9999730298290092\n",
      "At random state 74,the testing accuracy is:- 0.844822006472492\n",
      "\n",
      "\n",
      "At random state 75,the training accuarcy is:- 1.0\n",
      "At random state 75,the testing accuracy is:- 0.8544498381877023\n",
      "\n",
      "\n",
      "At random state 76,the training accuarcy is:- 1.0\n",
      "At random state 76,the testing accuracy is:- 0.8534789644012944\n",
      "\n",
      "\n",
      "At random state 77,the training accuarcy is:- 1.0\n",
      "At random state 77,the testing accuracy is:- 0.8483009708737864\n",
      "\n",
      "\n",
      "At random state 78,the training accuarcy is:- 0.9999730298290092\n",
      "At random state 78,the testing accuracy is:- 0.8489482200647249\n",
      "\n",
      "\n",
      "At random state 79,the training accuarcy is:- 1.0\n",
      "At random state 79,the testing accuracy is:- 0.8482200647249191\n",
      "\n",
      "\n",
      "At random state 80,the training accuarcy is:- 0.9999730298290092\n",
      "At random state 80,the testing accuracy is:- 0.8498381877022654\n",
      "\n",
      "\n",
      "At random state 81,the training accuarcy is:- 1.0\n",
      "At random state 81,the testing accuracy is:- 0.8542880258899677\n",
      "\n",
      "\n",
      "At random state 82,the training accuarcy is:- 0.9999730298290092\n",
      "At random state 82,the testing accuracy is:- 0.8523462783171522\n",
      "\n",
      "\n",
      "At random state 83,the training accuarcy is:- 0.9999730298290092\n",
      "At random state 83,the testing accuracy is:- 0.851294498381877\n",
      "\n",
      "\n",
      "At random state 84,the training accuarcy is:- 0.9999730298290092\n",
      "At random state 84,the testing accuracy is:- 0.8541262135922331\n",
      "\n",
      "\n",
      "At random state 85,the training accuarcy is:- 1.0\n",
      "At random state 85,the testing accuracy is:- 0.8552588996763754\n",
      "\n",
      "\n",
      "At random state 86,the training accuarcy is:- 0.9999730298290092\n",
      "At random state 86,the testing accuracy is:- 0.8509708737864078\n",
      "\n",
      "\n",
      "At random state 87,the training accuarcy is:- 0.9999730298290092\n",
      "At random state 87,the testing accuracy is:- 0.8509708737864078\n",
      "\n",
      "\n",
      "At random state 88,the training accuarcy is:- 0.9999730298290092\n",
      "At random state 88,the testing accuracy is:- 0.8572815533980582\n",
      "\n",
      "\n",
      "At random state 89,the training accuarcy is:- 1.0\n",
      "At random state 89,the testing accuracy is:- 0.8525080906148867\n",
      "\n",
      "\n",
      "At random state 90,the training accuarcy is:- 0.9999730298290092\n",
      "At random state 90,the testing accuracy is:- 0.856957928802589\n",
      "\n",
      "\n",
      "At random state 91,the training accuarcy is:- 1.0\n",
      "At random state 91,the testing accuracy is:- 0.8530744336569579\n",
      "\n",
      "\n",
      "At random state 92,the training accuarcy is:- 0.9999730298290092\n",
      "At random state 92,the testing accuracy is:- 0.8490291262135923\n",
      "\n",
      "\n",
      "At random state 93,the training accuarcy is:- 1.0\n",
      "At random state 93,the testing accuracy is:- 0.8552588996763754\n",
      "\n",
      "\n",
      "At random state 94,the training accuarcy is:- 0.9999730298290092\n",
      "At random state 94,the testing accuracy is:- 0.8539644012944984\n",
      "\n",
      "\n",
      "At random state 95,the training accuarcy is:- 0.9999730298290092\n",
      "At random state 95,the testing accuracy is:- 0.8483818770226538\n",
      "\n",
      "\n",
      "At random state 96,the training accuarcy is:- 0.9999730298290092\n",
      "At random state 96,the testing accuracy is:- 0.8564724919093851\n",
      "\n",
      "\n",
      "At random state 97,the training accuarcy is:- 0.9999730298290092\n",
      "At random state 97,the testing accuracy is:- 0.8504045307443365\n",
      "\n",
      "\n",
      "At random state 98,the training accuarcy is:- 1.0\n",
      "At random state 98,the testing accuracy is:- 0.8552588996763754\n",
      "\n",
      "\n",
      "At random state 99,the training accuarcy is:- 0.9999730298290092\n",
      "At random state 99,the testing accuracy is:- 0.8533171521035599\n",
      "\n",
      "\n",
      "At random state 100,the training accuarcy is:- 0.9999730298290092\n",
      "At random state 100,the testing accuracy is:- 0.8516990291262136\n",
      "\n",
      "\n",
      "At random state 101,the training accuarcy is:- 1.0\n",
      "At random state 101,the testing accuracy is:- 0.856957928802589\n",
      "\n",
      "\n",
      "At random state 102,the training accuarcy is:- 1.0\n",
      "At random state 102,the testing accuracy is:- 0.8594660194174757\n",
      "\n",
      "\n",
      "At random state 103,the training accuarcy is:- 0.9999730298290092\n",
      "At random state 103,the testing accuracy is:- 0.8568770226537217\n",
      "\n",
      "\n",
      "At random state 104,the training accuarcy is:- 1.0\n",
      "At random state 104,the testing accuracy is:- 0.8446601941747572\n",
      "\n",
      "\n",
      "At random state 105,the training accuarcy is:- 1.0\n",
      "At random state 105,the testing accuracy is:- 0.8467637540453075\n",
      "\n",
      "\n",
      "At random state 106,the training accuarcy is:- 1.0\n",
      "At random state 106,the testing accuracy is:- 0.8532362459546926\n",
      "\n",
      "\n",
      "At random state 107,the training accuarcy is:- 1.0\n",
      "At random state 107,the testing accuracy is:- 0.8468446601941747\n",
      "\n",
      "\n",
      "At random state 108,the training accuarcy is:- 0.9999730298290092\n",
      "At random state 108,the testing accuracy is:- 0.8546116504854369\n",
      "\n",
      "\n",
      "At random state 109,the training accuarcy is:- 0.9999730298290092\n",
      "At random state 109,the testing accuracy is:- 0.8558252427184466\n",
      "\n",
      "\n",
      "At random state 110,the training accuarcy is:- 0.9999730298290092\n",
      "At random state 110,the testing accuracy is:- 0.8525080906148867\n",
      "\n",
      "\n",
      "At random state 111,the training accuarcy is:- 0.9999730298290092\n",
      "At random state 111,the testing accuracy is:- 0.8498381877022654\n",
      "\n",
      "\n",
      "At random state 112,the training accuarcy is:- 0.9999730298290092\n",
      "At random state 112,the testing accuracy is:- 0.8508090614886732\n",
      "\n",
      "\n",
      "At random state 113,the training accuarcy is:- 0.9999730298290092\n",
      "At random state 113,the testing accuracy is:- 0.8519417475728155\n",
      "\n",
      "\n",
      "At random state 114,the training accuarcy is:- 0.9999730298290092\n",
      "At random state 114,the testing accuracy is:- 0.8526699029126213\n",
      "\n",
      "\n",
      "At random state 115,the training accuarcy is:- 0.9999730298290092\n",
      "At random state 115,the testing accuracy is:- 0.857200647249191\n",
      "\n",
      "\n",
      "At random state 116,the training accuarcy is:- 1.0\n",
      "At random state 116,the testing accuracy is:- 0.8518608414239482\n",
      "\n",
      "\n",
      "At random state 117,the training accuarcy is:- 1.0\n",
      "At random state 117,the testing accuracy is:- 0.8533980582524272\n",
      "\n",
      "\n",
      "At random state 118,the training accuarcy is:- 1.0\n",
      "At random state 118,the testing accuracy is:- 0.8480582524271845\n",
      "\n",
      "\n",
      "At random state 119,the training accuarcy is:- 0.9999730298290092\n",
      "At random state 119,the testing accuracy is:- 0.8504045307443365\n",
      "\n",
      "\n",
      "At random state 120,the training accuarcy is:- 0.9999730298290092\n",
      "At random state 120,the testing accuracy is:- 0.8588187702265372\n",
      "\n",
      "\n",
      "At random state 121,the training accuarcy is:- 0.9999730298290092\n",
      "At random state 121,the testing accuracy is:- 0.8508899676375404\n",
      "\n",
      "\n",
      "At random state 122,the training accuarcy is:- 0.9999730298290092\n",
      "At random state 122,the testing accuracy is:- 0.8522653721682848\n",
      "\n",
      "\n",
      "At random state 123,the training accuarcy is:- 1.0\n",
      "At random state 123,the testing accuracy is:- 0.8515372168284789\n",
      "\n",
      "\n",
      "At random state 124,the training accuarcy is:- 0.9999730298290092\n",
      "At random state 124,the testing accuracy is:- 0.8594660194174757\n",
      "\n",
      "\n",
      "At random state 125,the training accuarcy is:- 0.9999730298290092\n",
      "At random state 125,the testing accuracy is:- 0.8513754045307443\n",
      "\n",
      "\n",
      "At random state 126,the training accuarcy is:- 0.9999730298290092\n",
      "At random state 126,the testing accuracy is:- 0.8532362459546926\n",
      "\n",
      "\n",
      "At random state 127,the training accuarcy is:- 0.9999730298290092\n",
      "At random state 127,the testing accuracy is:- 0.8555825242718447\n",
      "\n",
      "\n",
      "At random state 128,the training accuarcy is:- 0.9999730298290092\n",
      "At random state 128,the testing accuracy is:- 0.8476537216828479\n",
      "\n",
      "\n",
      "At random state 129,the training accuarcy is:- 1.0\n",
      "At random state 129,the testing accuracy is:- 0.8503236245954693\n",
      "\n",
      "\n",
      "At random state 130,the training accuarcy is:- 0.9999730298290092\n",
      "At random state 130,the testing accuracy is:- 0.8564724919093851\n",
      "\n",
      "\n"
     ]
    },
    {
     "name": "stdout",
     "output_type": "stream",
     "text": [
      "At random state 131,the training accuarcy is:- 1.0\n",
      "At random state 131,the testing accuracy is:- 0.8570388349514563\n",
      "\n",
      "\n",
      "At random state 132,the training accuarcy is:- 0.9999730298290092\n",
      "At random state 132,the testing accuracy is:- 0.8512135922330097\n",
      "\n",
      "\n",
      "At random state 133,the training accuarcy is:- 0.9999730298290092\n",
      "At random state 133,the testing accuracy is:- 0.8530744336569579\n",
      "\n",
      "\n",
      "At random state 134,the training accuarcy is:- 0.9999730298290092\n",
      "At random state 134,the testing accuracy is:- 0.8483009708737864\n",
      "\n",
      "\n",
      "At random state 135,the training accuarcy is:- 1.0\n",
      "At random state 135,the testing accuracy is:- 0.8541262135922331\n",
      "\n",
      "\n",
      "At random state 136,the training accuarcy is:- 0.9999730298290092\n",
      "At random state 136,the testing accuracy is:- 0.8577669902912621\n",
      "\n",
      "\n",
      "At random state 137,the training accuarcy is:- 1.0\n",
      "At random state 137,the testing accuracy is:- 0.852588996763754\n",
      "\n",
      "\n",
      "At random state 138,the training accuarcy is:- 1.0\n",
      "At random state 138,the testing accuracy is:- 0.8507281553398058\n",
      "\n",
      "\n",
      "At random state 139,the training accuarcy is:- 0.9999730298290092\n",
      "At random state 139,the testing accuracy is:- 0.8508899676375404\n",
      "\n",
      "\n",
      "At random state 140,the training accuarcy is:- 1.0\n",
      "At random state 140,the testing accuracy is:- 0.8461974110032362\n",
      "\n",
      "\n",
      "At random state 141,the training accuarcy is:- 0.9999730298290092\n",
      "At random state 141,the testing accuracy is:- 0.8539644012944984\n",
      "\n",
      "\n",
      "At random state 142,the training accuarcy is:- 0.9999730298290092\n",
      "At random state 142,the testing accuracy is:- 0.8576860841423948\n",
      "\n",
      "\n",
      "At random state 143,the training accuarcy is:- 1.0\n",
      "At random state 143,the testing accuracy is:- 0.8520226537216828\n",
      "\n",
      "\n",
      "At random state 144,the training accuarcy is:- 0.9999730298290092\n",
      "At random state 144,the testing accuracy is:- 0.855663430420712\n",
      "\n",
      "\n",
      "At random state 145,the training accuarcy is:- 0.9999730298290092\n",
      "At random state 145,the testing accuracy is:- 0.859546925566343\n",
      "\n",
      "\n",
      "At random state 146,the training accuarcy is:- 1.0\n",
      "At random state 146,the testing accuracy is:- 0.8513754045307443\n",
      "\n",
      "\n",
      "At random state 147,the training accuarcy is:- 0.9999730298290092\n",
      "At random state 147,the testing accuracy is:- 0.8533171521035599\n",
      "\n",
      "\n",
      "At random state 148,the training accuarcy is:- 1.0\n",
      "At random state 148,the testing accuracy is:- 0.851294498381877\n",
      "\n",
      "\n",
      "At random state 149,the training accuarcy is:- 1.0\n",
      "At random state 149,the testing accuracy is:- 0.8495145631067961\n",
      "\n",
      "\n",
      "At random state 150,the training accuarcy is:- 1.0\n",
      "At random state 150,the testing accuracy is:- 0.8515372168284789\n",
      "\n",
      "\n",
      "At random state 151,the training accuarcy is:- 0.9999730298290092\n",
      "At random state 151,the testing accuracy is:- 0.8463592233009709\n",
      "\n",
      "\n",
      "At random state 152,the training accuarcy is:- 1.0\n",
      "At random state 152,the testing accuracy is:- 0.8508899676375404\n",
      "\n",
      "\n",
      "At random state 153,the training accuarcy is:- 1.0\n",
      "At random state 153,the testing accuracy is:- 0.8490291262135923\n",
      "\n",
      "\n",
      "At random state 154,the training accuarcy is:- 1.0\n",
      "At random state 154,the testing accuracy is:- 0.8539644012944984\n",
      "\n",
      "\n",
      "At random state 155,the training accuarcy is:- 0.9999730298290092\n",
      "At random state 155,the testing accuracy is:- 0.852588996763754\n",
      "\n",
      "\n",
      "At random state 156,the training accuarcy is:- 1.0\n",
      "At random state 156,the testing accuracy is:- 0.8583333333333333\n",
      "\n",
      "\n",
      "At random state 157,the training accuarcy is:- 1.0\n",
      "At random state 157,the testing accuracy is:- 0.8559870550161812\n",
      "\n",
      "\n",
      "At random state 158,the training accuarcy is:- 0.9999730298290092\n",
      "At random state 158,the testing accuracy is:- 0.8526699029126213\n",
      "\n",
      "\n",
      "At random state 159,the training accuarcy is:- 0.9999730298290092\n",
      "At random state 159,the testing accuracy is:- 0.8508899676375404\n",
      "\n",
      "\n",
      "At random state 160,the training accuarcy is:- 0.9999730298290092\n",
      "At random state 160,the testing accuracy is:- 0.8533980582524272\n",
      "\n",
      "\n",
      "At random state 161,the training accuarcy is:- 0.9999730298290092\n",
      "At random state 161,the testing accuracy is:- 0.846116504854369\n",
      "\n",
      "\n",
      "At random state 162,the training accuarcy is:- 0.9999730298290092\n",
      "At random state 162,the testing accuracy is:- 0.8491909385113269\n",
      "\n",
      "\n",
      "At random state 163,the training accuarcy is:- 0.9999730298290092\n",
      "At random state 163,the testing accuracy is:- 0.8531553398058253\n",
      "\n",
      "\n",
      "At random state 164,the training accuarcy is:- 1.0\n",
      "At random state 164,the testing accuracy is:- 0.8563106796116505\n",
      "\n",
      "\n",
      "At random state 165,the training accuarcy is:- 0.9999730298290092\n",
      "At random state 165,the testing accuracy is:- 0.8538025889967638\n",
      "\n",
      "\n",
      "At random state 166,the training accuarcy is:- 0.9999730298290092\n",
      "At random state 166,the testing accuracy is:- 0.8498381877022654\n",
      "\n",
      "\n",
      "At random state 167,the training accuarcy is:- 0.9999730298290092\n",
      "At random state 167,the testing accuracy is:- 0.8525080906148867\n",
      "\n",
      "\n",
      "At random state 168,the training accuarcy is:- 0.9999730298290092\n",
      "At random state 168,the testing accuracy is:- 0.8521035598705502\n",
      "\n",
      "\n",
      "At random state 169,the training accuarcy is:- 1.0\n",
      "At random state 169,the testing accuracy is:- 0.8494336569579288\n",
      "\n",
      "\n",
      "At random state 170,the training accuarcy is:- 1.0\n",
      "At random state 170,the testing accuracy is:- 0.8531553398058253\n",
      "\n",
      "\n",
      "At random state 171,the training accuarcy is:- 1.0\n",
      "At random state 171,the testing accuracy is:- 0.8524271844660194\n",
      "\n",
      "\n",
      "At random state 172,the training accuarcy is:- 1.0\n",
      "At random state 172,the testing accuracy is:- 0.8521844660194174\n",
      "\n",
      "\n",
      "At random state 173,the training accuarcy is:- 0.9999730298290092\n",
      "At random state 173,the testing accuracy is:- 0.8513754045307443\n",
      "\n",
      "\n",
      "At random state 174,the training accuarcy is:- 0.9999730298290092\n",
      "At random state 174,the testing accuracy is:- 0.8543689320388349\n",
      "\n",
      "\n",
      "At random state 175,the training accuarcy is:- 0.9999730298290092\n",
      "At random state 175,the testing accuracy is:- 0.8516990291262136\n",
      "\n",
      "\n",
      "At random state 176,the training accuarcy is:- 1.0\n",
      "At random state 176,the testing accuracy is:- 0.8552588996763754\n",
      "\n",
      "\n",
      "At random state 177,the training accuarcy is:- 1.0\n",
      "At random state 177,the testing accuracy is:- 0.8459546925566344\n",
      "\n",
      "\n",
      "At random state 178,the training accuarcy is:- 0.9999730298290092\n",
      "At random state 178,the testing accuracy is:- 0.8555825242718447\n",
      "\n",
      "\n",
      "At random state 179,the training accuarcy is:- 1.0\n",
      "At random state 179,the testing accuracy is:- 0.8490291262135923\n",
      "\n",
      "\n",
      "At random state 180,the training accuarcy is:- 0.9999730298290092\n",
      "At random state 180,the testing accuracy is:- 0.8546116504854369\n",
      "\n",
      "\n",
      "At random state 181,the training accuarcy is:- 1.0\n",
      "At random state 181,the testing accuracy is:- 0.8511326860841424\n",
      "\n",
      "\n",
      "At random state 182,the training accuarcy is:- 0.9999730298290092\n",
      "At random state 182,the testing accuracy is:- 0.8551779935275081\n",
      "\n",
      "\n",
      "At random state 183,the training accuarcy is:- 1.0\n",
      "At random state 183,the testing accuracy is:- 0.8564724919093851\n",
      "\n",
      "\n",
      "At random state 184,the training accuarcy is:- 0.9999730298290092\n",
      "At random state 184,the testing accuracy is:- 0.8436084142394822\n",
      "\n",
      "\n",
      "At random state 185,the training accuarcy is:- 1.0\n",
      "At random state 185,the testing accuracy is:- 0.847411003236246\n",
      "\n",
      "\n",
      "At random state 186,the training accuarcy is:- 1.0\n",
      "At random state 186,the testing accuracy is:- 0.8555016181229773\n",
      "\n",
      "\n",
      "At random state 187,the training accuarcy is:- 0.9999730298290092\n",
      "At random state 187,the testing accuracy is:- 0.8500809061488673\n",
      "\n",
      "\n",
      "At random state 188,the training accuarcy is:- 0.9999730298290092\n",
      "At random state 188,the testing accuracy is:- 0.858495145631068\n",
      "\n",
      "\n",
      "At random state 189,the training accuarcy is:- 0.9999730298290092\n",
      "At random state 189,the testing accuracy is:- 0.8576860841423948\n",
      "\n",
      "\n",
      "At random state 190,the training accuarcy is:- 0.9999730298290092\n",
      "At random state 190,the testing accuracy is:- 0.8520226537216828\n",
      "\n",
      "\n",
      "At random state 191,the training accuarcy is:- 0.9999730298290092\n",
      "At random state 191,the testing accuracy is:- 0.8513754045307443\n",
      "\n",
      "\n",
      "At random state 192,the training accuarcy is:- 1.0\n",
      "At random state 192,the testing accuracy is:- 0.8576860841423948\n",
      "\n",
      "\n",
      "At random state 193,the training accuarcy is:- 0.9999730298290092\n",
      "At random state 193,the testing accuracy is:- 0.8512135922330097\n",
      "\n",
      "\n",
      "At random state 194,the training accuarcy is:- 0.9999730298290092\n",
      "At random state 194,the testing accuracy is:- 0.8533980582524272\n",
      "\n",
      "\n",
      "At random state 195,the training accuarcy is:- 0.9999730298290092\n",
      "At random state 195,the testing accuracy is:- 0.8554207119741101\n",
      "\n",
      "\n"
     ]
    },
    {
     "name": "stdout",
     "output_type": "stream",
     "text": [
      "At random state 196,the training accuarcy is:- 0.9999730298290092\n",
      "At random state 196,the testing accuracy is:- 0.8533171521035599\n",
      "\n",
      "\n",
      "At random state 197,the training accuarcy is:- 0.9999730298290092\n",
      "At random state 197,the testing accuracy is:- 0.8524271844660194\n",
      "\n",
      "\n",
      "At random state 198,the training accuarcy is:- 1.0\n",
      "At random state 198,the testing accuracy is:- 0.8516181229773463\n",
      "\n",
      "\n",
      "At random state 199,the training accuarcy is:- 0.9999730298290092\n",
      "At random state 199,the testing accuracy is:- 0.8524271844660194\n",
      "\n",
      "\n"
     ]
    }
   ],
   "source": [
    "#decision tree classifier\n",
    "dt=DecisionTreeClassifier()\n",
    "d=[]\n",
    "for i in range(0,200):\n",
    "    x_train,x_test,y_train,y_test=train_test_split(x,y,test_size=0.25,random_state=i)\n",
    "    dt.fit(x_train,y_train)\n",
    "    pred_train=dt.predict(x_train)\n",
    "    pred_test=dt.predict(x_test)\n",
    "    print(f\"At random state {i},the training accuarcy is:- {accuracy_score(y_train,pred_train)}\")\n",
    "    print(f\"At random state {i},the testing accuracy is:- {accuracy_score(y_test,pred_test)}\")\n",
    "    print(\"\\n\")\n",
    "    if round(accuracy_score(y_train,pred_train)*100)==round(accuracy_score(y_test,pred_test)*100):\n",
    "        print(\"At random state\",i,\"model performs well\")\n",
    "        d.append(i)"
   ]
  },
  {
   "cell_type": "markdown",
   "id": "d298e88a",
   "metadata": {},
   "source": [
    "Splitted data into trained and testdata,finding best random state for decision tree"
   ]
  },
  {
   "cell_type": "code",
   "execution_count": 54,
   "id": "2ee04363",
   "metadata": {},
   "outputs": [
    {
     "name": "stdout",
     "output_type": "stream",
     "text": [
      "              precision    recall  f1-score   support\n",
      "\n",
      "           0       0.85      0.85      0.85      6201\n",
      "           1       0.85      0.85      0.85      6159\n",
      "\n",
      "    accuracy                           0.85     12360\n",
      "   macro avg       0.85      0.85      0.85     12360\n",
      "weighted avg       0.85      0.85      0.85     12360\n",
      "\n",
      "[[5264  937]\n",
      " [ 905 5254]]\n"
     ]
    }
   ],
   "source": [
    "x_train,x_test,y_train,y_test=train_test_split(x,y,test_size=0.25,random_state=199)\n",
    "dt.fit(x_train,y_train)\n",
    "preddt=dt.predict(x_test)\n",
    "acc_d=classification_report(y_test,preddt)\n",
    "print(acc_d)\n",
    "print(confusion_matrix(y_test,preddt))"
   ]
  },
  {
   "cell_type": "markdown",
   "id": "abf7785a",
   "metadata": {},
   "source": [
    "Splitted data into train and test data,finding best random states"
   ]
  },
  {
   "cell_type": "code",
   "execution_count": 55,
   "id": "6851b319",
   "metadata": {},
   "outputs": [
    {
     "name": "stdout",
     "output_type": "stream",
     "text": [
      "              precision    recall  f1-score   support\n",
      "\n",
      "           0       0.91      0.89      0.90      6201\n",
      "           1       0.89      0.91      0.90      6159\n",
      "\n",
      "    accuracy                           0.90     12360\n",
      "   macro avg       0.90      0.90      0.90     12360\n",
      "weighted avg       0.90      0.90      0.90     12360\n",
      "\n",
      "[[5514  687]\n",
      " [ 562 5597]]\n"
     ]
    }
   ],
   "source": [
    "#Random Forest classifier \n",
    "rf=RandomForestClassifier()\n",
    "x_train,x_test,y_train,y_test=train_test_split(x,y,test_size=0.25,random_state=199)\n",
    "rf.fit(x_train,y_train)\n",
    "predrf=rf.predict(x_test)\n",
    "acc_r=classification_report(y_test,predrf)\n",
    "print(acc_r)\n",
    "print(confusion_matrix(y_test,predrf))"
   ]
  },
  {
   "cell_type": "markdown",
   "id": "7a02a1a7",
   "metadata": {},
   "source": [
    "Applied best random state and print accuracy score and confusion matrix for random forest"
   ]
  },
  {
   "cell_type": "code",
   "execution_count": 56,
   "id": "8274e62c",
   "metadata": {},
   "outputs": [
    {
     "name": "stdout",
     "output_type": "stream",
     "text": [
      "              precision    recall  f1-score   support\n",
      "\n",
      "           0       0.87      0.82      0.84      6189\n",
      "           1       0.83      0.88      0.85      6171\n",
      "\n",
      "    accuracy                           0.85     12360\n",
      "   macro avg       0.85      0.85      0.85     12360\n",
      "weighted avg       0.85      0.85      0.85     12360\n",
      "\n",
      "[[5066 1123]\n",
      " [ 768 5403]]\n"
     ]
    }
   ],
   "source": [
    "#adaboostclassifier\n",
    "ad=AdaBoostClassifier()\n",
    "x_train,x_test,y_train,y_test=train_test_split(x,y,test_size=0.25,random_state=200)\n",
    "ad.fit(x_train,y_train)\n",
    "predad=ad.predict(x_test)\n",
    "acc_a=classification_report(y_test,predad)\n",
    "print(acc_a)\n",
    "print(confusion_matrix(y_test,predad))"
   ]
  },
  {
   "cell_type": "markdown",
   "id": "2fa51ea3",
   "metadata": {},
   "source": [
    "Applied random state 200 and print confusion matrix and accuracy score for adaboost classifier"
   ]
  },
  {
   "cell_type": "markdown",
   "id": "68ba7d19",
   "metadata": {},
   "source": [
    "# Cross Validation Score"
   ]
  },
  {
   "cell_type": "code",
   "execution_count": 57,
   "id": "20e904f4",
   "metadata": {},
   "outputs": [
    {
     "name": "stdout",
     "output_type": "stream",
     "text": [
      "CV score and it's mean of Logistic Regression: 0.7681338615081565 Accuracy score: 0.5013754045307444\n",
      "CV score and it's mean of Decision Tree Classifier: 0.8544452521092687 Accuracy score: 0.4961165048543689\n",
      "CV score and it's mean of Random Forest: 0.901231010165447 Accuracy score: 0.4937702265372168\n",
      "CV score and it's mean of Adaboost classifier: 0.8490640504611349 Accuracy score: 0.8470064724919094\n"
     ]
    }
   ],
   "source": [
    "print(\"CV score and it's mean of Logistic Regression:\",cross_val_score(lr,x,y,cv=8).mean(),\"Accuracy score:\",accuracy_score(y_test,predlr))\n",
    "print(\"CV score and it's mean of Decision Tree Classifier:\",cross_val_score(dt,x,y,cv=8).mean(),\"Accuracy score:\",accuracy_score(y_test,preddt))\n",
    "print(\"CV score and it's mean of Random Forest:\",cross_val_score(rf,x,y,cv=8).mean(),\"Accuracy score:\",accuracy_score(y_test,predrf))\n",
    "print(\"CV score and it's mean of Adaboost classifier:\",cross_val_score(ad,x,y,cv=8).mean(),\"Accuracy score:\",accuracy_score(y_test,predad))"
   ]
  },
  {
   "cell_type": "markdown",
   "id": "7ac20280",
   "metadata": {},
   "source": [
    "CV score and accuracy score of adaboost classifier is same so I proceed with adaboostclassifier"
   ]
  },
  {
   "cell_type": "markdown",
   "id": "651084c3",
   "metadata": {},
   "source": [
    "# Hyper Parameter Tuning"
   ]
  },
  {
   "cell_type": "code",
   "execution_count": 58,
   "id": "c9136d0f",
   "metadata": {},
   "outputs": [],
   "source": [
    "parameters={'n_estimators':np.arange(40,60),'learning_rate':[1.0,2.0,3.0,4.0],'algorithm':['SAMME','SAMME.R'],\n",
    "          'random_state':np.arange(10,20)}"
   ]
  },
  {
   "cell_type": "markdown",
   "id": "53aa6b95",
   "metadata": {},
   "source": [
    "Stored parameters of adaboost in a variable"
   ]
  },
  {
   "cell_type": "code",
   "execution_count": 59,
   "id": "cf5410f9",
   "metadata": {},
   "outputs": [],
   "source": [
    "gsv=GridSearchCV(ad,parameters,cv=8)"
   ]
  },
  {
   "cell_type": "markdown",
   "id": "30d4a5b9",
   "metadata": {},
   "source": [
    "Call gridsearch cv with parameters, gives cv=8"
   ]
  },
  {
   "cell_type": "code",
   "execution_count": 62,
   "id": "4a4befe7",
   "metadata": {},
   "outputs": [
    {
     "data": {
      "text/plain": [
       "GridSearchCV(cv=8, estimator=AdaBoostClassifier(),\n",
       "             param_grid={'algorithm': ['SAMME', 'SAMME.R'],\n",
       "                         'learning_rate': [1.0, 2.0, 3.0, 4.0],\n",
       "                         'n_estimators': array([40, 41, 42, 43, 44, 45, 46, 47, 48, 49, 50, 51, 52, 53, 54, 55, 56,\n",
       "       57, 58, 59]),\n",
       "                         'random_state': array([10, 11, 12, 13, 14, 15, 16, 17, 18, 19])})"
      ]
     },
     "execution_count": 62,
     "metadata": {},
     "output_type": "execute_result"
    }
   ],
   "source": [
    "gsv.fit(x_train,y_train)"
   ]
  },
  {
   "cell_type": "markdown",
   "id": "34fd500e",
   "metadata": {},
   "source": [
    "Fitted data"
   ]
  },
  {
   "cell_type": "code",
   "execution_count": 63,
   "id": "654aba0e",
   "metadata": {},
   "outputs": [
    {
     "data": {
      "text/plain": [
       "{'algorithm': 'SAMME.R',\n",
       " 'learning_rate': 1.0,\n",
       " 'n_estimators': 58,\n",
       " 'random_state': 10}"
      ]
     },
     "execution_count": 63,
     "metadata": {},
     "output_type": "execute_result"
    }
   ],
   "source": [
    "gsv.best_params_"
   ]
  },
  {
   "cell_type": "markdown",
   "id": "14c2c9b2",
   "metadata": {},
   "source": [
    "Best parameters"
   ]
  },
  {
   "cell_type": "code",
   "execution_count": 64,
   "id": "4eee2e00",
   "metadata": {},
   "outputs": [
    {
     "name": "stdout",
     "output_type": "stream",
     "text": [
      "84.668284789644\n"
     ]
    }
   ],
   "source": [
    "best=AdaBoostClassifier(algorithm='SAMME.R',learning_rate=1.0,n_estimators=58,random_state=10)\n",
    "best.fit(x_train,y_train)\n",
    "predbest=best.predict(x_test)\n",
    "acc_b=(accuracy_score(y_test,predbest))\n",
    "print(acc_b*100)"
   ]
  },
  {
   "cell_type": "markdown",
   "id": "657bc67e",
   "metadata": {},
   "source": [
    "Applied best parameters  for final model"
   ]
  },
  {
   "cell_type": "markdown",
   "id": "6827598a",
   "metadata": {},
   "source": [
    "# AUC ROC Curve"
   ]
  },
  {
   "cell_type": "code",
   "execution_count": 65,
   "id": "03bce760",
   "metadata": {},
   "outputs": [
    {
     "data": {
      "text/plain": [
       "array([0.52477113, 0.50232722, 0.49688061, ..., 0.4981426 , 0.48543942,\n",
       "       0.50682069])"
      ]
     },
     "execution_count": 65,
     "metadata": {},
     "output_type": "execute_result"
    }
   ],
   "source": [
    "#predicting probabilities\n",
    "y_pred_proba=best.predict_proba(x_test)[:,1] #threshold value\n",
    "y_pred_proba"
   ]
  },
  {
   "cell_type": "code",
   "execution_count": 66,
   "id": "64beddfd",
   "metadata": {},
   "outputs": [],
   "source": [
    "#calculating roc curves\n",
    "fpr,tpr,thresholds=roc_curve(y_test,y_pred_proba)"
   ]
  },
  {
   "cell_type": "code",
   "execution_count": 67,
   "id": "67b9694e",
   "metadata": {},
   "outputs": [
    {
     "data": {
      "image/png": "[encoded data removed]",
      "text/plain": [
       "<Figure size 432x288 with 1 Axes>"
      ]
     },
     "metadata": {
      "needs_background": "light"
     },
     "output_type": "display_data"
    }
   ],
   "source": [
    "#plotting roc curves\n",
    "plt.plot([0,1],[0,1],'k--')  #([x-axis],[y-axis],broken lines)\n",
    "plt.plot(fpr,tpr,label='Ada Boost Classifier')\n",
    "plt.xlabel('False Positive Rate')\n",
    "plt.ylabel('True Positive Rate')\n",
    "plt.title('Ada Boost Classifier')\n",
    "plt.show()"
   ]
  },
  {
   "cell_type": "markdown",
   "id": "29f5f7f4",
   "metadata": {},
   "source": [
    "AUC curve is fine"
   ]
  },
  {
   "cell_type": "markdown",
   "id": "cdbf1e28",
   "metadata": {},
   "source": [
    "# Saving Model"
   ]
  },
  {
   "cell_type": "code",
   "execution_count": 68,
   "id": "5c5cedd8",
   "metadata": {},
   "outputs": [
    {
     "data": {
      "text/plain": [
       "['Best_Model.pkl']"
      ]
     },
     "execution_count": 68,
     "metadata": {},
     "output_type": "execute_result"
    }
   ],
   "source": [
    "import joblib as jb\n",
    "jb.dump(best,\"Best_Model.pkl\")"
   ]
  },
  {
   "cell_type": "markdown",
   "id": "db9ad1f2",
   "metadata": {},
   "source": [
    "Model Saved"
   ]
  },
  {
   "cell_type": "markdown",
   "id": "7460c6bb",
   "metadata": {},
   "source": [
    "# Conclusion"
   ]
  },
  {
   "cell_type": "code",
   "execution_count": 69,
   "id": "1b74864d",
   "metadata": {},
   "outputs": [
    {
     "data": {
      "text/html": [
       "<div>\n",
       "<style scoped>\n",
       "    .dataframe tbody tr th:only-of-type {\n",
       "        vertical-align: middle;\n",
       "    }\n",
       "\n",
       "    .dataframe tbody tr th {\n",
       "        vertical-align: top;\n",
       "    }\n",
       "\n",
       "    .dataframe thead th {\n",
       "        text-align: right;\n",
       "    }\n",
       "</style>\n",
       "<table border=\"1\" class=\"dataframe\">\n",
       "  <thead>\n",
       "    <tr style=\"text-align: right;\">\n",
       "      <th></th>\n",
       "      <th>Original:</th>\n",
       "      <th>Predicted</th>\n",
       "    </tr>\n",
       "  </thead>\n",
       "  <tbody>\n",
       "    <tr>\n",
       "      <th>0</th>\n",
       "      <td>1</td>\n",
       "      <td>1</td>\n",
       "    </tr>\n",
       "    <tr>\n",
       "      <th>1</th>\n",
       "      <td>0</td>\n",
       "      <td>1</td>\n",
       "    </tr>\n",
       "    <tr>\n",
       "      <th>2</th>\n",
       "      <td>0</td>\n",
       "      <td>0</td>\n",
       "    </tr>\n",
       "    <tr>\n",
       "      <th>3</th>\n",
       "      <td>1</td>\n",
       "      <td>1</td>\n",
       "    </tr>\n",
       "    <tr>\n",
       "      <th>4</th>\n",
       "      <td>0</td>\n",
       "      <td>1</td>\n",
       "    </tr>\n",
       "    <tr>\n",
       "      <th>...</th>\n",
       "      <td>...</td>\n",
       "      <td>...</td>\n",
       "    </tr>\n",
       "    <tr>\n",
       "      <th>12355</th>\n",
       "      <td>1</td>\n",
       "      <td>1</td>\n",
       "    </tr>\n",
       "    <tr>\n",
       "      <th>12356</th>\n",
       "      <td>1</td>\n",
       "      <td>0</td>\n",
       "    </tr>\n",
       "    <tr>\n",
       "      <th>12357</th>\n",
       "      <td>0</td>\n",
       "      <td>0</td>\n",
       "    </tr>\n",
       "    <tr>\n",
       "      <th>12358</th>\n",
       "      <td>0</td>\n",
       "      <td>0</td>\n",
       "    </tr>\n",
       "    <tr>\n",
       "      <th>12359</th>\n",
       "      <td>1</td>\n",
       "      <td>1</td>\n",
       "    </tr>\n",
       "  </tbody>\n",
       "</table>\n",
       "<p>12360 rows × 2 columns</p>\n",
       "</div>"
      ],
      "text/plain": [
       "       Original:  Predicted\n",
       "0              1          1\n",
       "1              0          1\n",
       "2              0          0\n",
       "3              1          1\n",
       "4              0          1\n",
       "...          ...        ...\n",
       "12355          1          1\n",
       "12356          1          0\n",
       "12357          0          0\n",
       "12358          0          0\n",
       "12359          1          1\n",
       "\n",
       "[12360 rows x 2 columns]"
      ]
     },
     "execution_count": 69,
     "metadata": {},
     "output_type": "execute_result"
    }
   ],
   "source": [
    "a=np.array(y_test)\n",
    "predicted=np.array(best.predict(x_test))\n",
    "INCOME=pd.DataFrame({\"Original:\":a,\"Predicted\":predicted},index=range(len(a)))\n",
    "INCOME"
   ]
  },
  {
   "cell_type": "markdown",
   "id": "c3f6a351",
   "metadata": {},
   "source": [
    "Original and predicted value"
   ]
  }
 ],
 "metadata": {
  "kernelspec": {
   "display_name": "Python 3",
   "language": "python",
   "name": "python3"
  },
  "language_info": {
   "codemirror_mode": {
    "name": "ipython",
    "version": 3
   },
   "file_extension": ".py",
   "mimetype": "text/x-python",
   "name": "python",
   "nbconvert_exporter": "python",
   "pygments_lexer": "ipython3",
   "version": "3.8.8"
  }
 },
 "nbformat": 4,
 "nbformat_minor": 5
}
